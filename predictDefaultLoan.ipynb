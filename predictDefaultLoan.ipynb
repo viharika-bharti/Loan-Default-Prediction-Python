{
 "cells": [
  {
   "cell_type": "markdown",
   "metadata": {},
   "source": [
    "### INTRDUCTION\n",
    "\n",
    "Lending Club (LC) offers an online platform to match borrowers seeking loans and lenders looking to invest. With lower operating costs than traditional lenders (banks), such online lending platforms leverage technology, data and analytics to provide faster and more convenient financing to individual and small business borrowers looking for attractive investment.\n",
    "\n",
    "The purpose of this project is to develop a model of machine learning to predict the likelihood that a loan will be paid off. We will try to use data only accessible to investors via the listing of loans from the LendingClub, including borrower information. Such a predictive model could help investors in LendingClub make better-informed investment choices. We would only consider loans that have been approved by LendingClub under its credit subscription scheme."
   ]
  },
  {
   "cell_type": "markdown",
   "metadata": {},
   "source": [
    "**Importing libraries **"
   ]
  },
  {
   "cell_type": "code",
   "execution_count": 2,
   "metadata": {},
   "outputs": [],
   "source": [
    "import numpy as np\n",
    "import pandas as pd\n",
    "import seaborn as sns\n",
    "import matplotlib.pyplot as plt\n",
    "%matplotlib inline"
   ]
  },
  {
   "cell_type": "markdown",
   "metadata": {},
   "source": [
    "### Dataset and Data Cleaning\n",
    "Checking dataset shape and data types. We are trying to predict the loan_status column, so that is our target variable"
   ]
  },
  {
   "cell_type": "code",
   "execution_count": 3,
   "metadata": {},
   "outputs": [],
   "source": [
    "df = pd.read_csv('C:/Users/vihar/Documents/Courses/Lending Club/data_lendingClub/lcData4m.csv')"
   ]
  },
  {
   "cell_type": "code",
   "execution_count": 19,
   "metadata": {},
   "outputs": [
    {
     "name": "stdout",
     "output_type": "stream",
     "text": [
      "<class 'pandas.core.frame.DataFrame'>\n",
      "RangeIndex: 92624 entries, 0 to 92623\n",
      "Columns: 150 entries, id to settlement_term\n",
      "dtypes: float64(77), int64(48), object(25)\n",
      "memory usage: 106.0+ MB\n"
     ]
    }
   ],
   "source": [
    "df.info()"
   ]
  },
  {
   "cell_type": "code",
   "execution_count": 18,
   "metadata": {},
   "outputs": [
    {
     "data": {
      "text/plain": [
       "{dtype('int64'): Index(['loan_amnt', 'funded_amnt', 'funded_amnt_inv', 'delinq_2yrs',\n",
       "        'fico_range_low', 'fico_range_high', 'inq_last_6mths', 'open_acc',\n",
       "        'pub_rec', 'revol_bal', 'total_acc', 'out_prncp', 'out_prncp_inv',\n",
       "        'last_fico_range_high', 'last_fico_range_low',\n",
       "        'collections_12_mths_ex_med', 'policy_code', 'acc_now_delinq',\n",
       "        'tot_coll_amt', 'tot_cur_bal', 'total_rev_hi_lim',\n",
       "        'acc_open_past_24mths', 'avg_cur_bal', 'chargeoff_within_12_mths',\n",
       "        'delinq_amnt', 'mo_sin_old_rev_tl_op', 'mo_sin_rcnt_rev_tl_op',\n",
       "        'mo_sin_rcnt_tl', 'mort_acc', 'num_accts_ever_120_pd', 'num_actv_bc_tl',\n",
       "        'num_actv_rev_tl', 'num_bc_sats', 'num_bc_tl', 'num_il_tl',\n",
       "        'num_op_rev_tl', 'num_rev_accts', 'num_rev_tl_bal_gt_0', 'num_sats',\n",
       "        'num_tl_30dpd', 'num_tl_90g_dpd_24m', 'num_tl_op_past_12m',\n",
       "        'pub_rec_bankruptcies', 'tax_liens', 'tot_hi_cred_lim',\n",
       "        'total_bal_ex_mort', 'total_bc_limit', 'total_il_high_credit_limit'],\n",
       "       dtype='object'),\n",
       " dtype('float64'): Index(['id', 'member_id', 'int_rate', 'installment', 'annual_inc', 'url',\n",
       "        'desc', 'dti', 'mths_since_last_delinq', 'mths_since_last_record',\n",
       "        'total_pymnt', 'total_pymnt_inv', 'total_rec_prncp', 'total_rec_int',\n",
       "        'total_rec_late_fee', 'recoveries', 'collection_recovery_fee',\n",
       "        'last_pymnt_amnt', 'next_pymnt_d', 'mths_since_last_major_derog',\n",
       "        'annual_inc_joint', 'dti_joint', 'verification_status_joint',\n",
       "        'open_acc_6m', 'open_act_il', 'open_il_12m', 'open_il_24m',\n",
       "        'mths_since_rcnt_il', 'total_bal_il', 'il_util', 'open_rv_12m',\n",
       "        'open_rv_24m', 'max_bal_bc', 'all_util', 'inq_fi', 'total_cu_tl',\n",
       "        'inq_last_12m', 'bc_open_to_buy', 'bc_util', 'mo_sin_old_il_acct',\n",
       "        'mths_since_recent_bc', 'mths_since_recent_bc_dlq',\n",
       "        'mths_since_recent_inq', 'mths_since_recent_revol_delinq',\n",
       "        'num_tl_120dpd_2m', 'pct_tl_nvr_dlq', 'percent_bc_gt_75',\n",
       "        'revol_bal_joint', 'sec_app_fico_range_low', 'sec_app_fico_range_high',\n",
       "        'sec_app_earliest_cr_line', 'sec_app_inq_last_6mths',\n",
       "        'sec_app_mort_acc', 'sec_app_open_acc', 'sec_app_revol_util',\n",
       "        'sec_app_open_act_il', 'sec_app_num_rev_accts',\n",
       "        'sec_app_chargeoff_within_12_mths',\n",
       "        'sec_app_collections_12_mths_ex_med',\n",
       "        'sec_app_mths_since_last_major_derog', 'hardship_type',\n",
       "        'hardship_reason', 'hardship_status', 'deferral_term',\n",
       "        'hardship_amount', 'hardship_start_date', 'hardship_end_date',\n",
       "        'payment_plan_start_date', 'hardship_length', 'hardship_dpd',\n",
       "        'hardship_loan_status', 'orig_projected_additional_accrued_interest',\n",
       "        'hardship_payoff_balance_amount', 'hardship_last_payment_amount',\n",
       "        'settlement_amount', 'settlement_percentage', 'settlement_term'],\n",
       "       dtype='object'),\n",
       " dtype('O'): Index(['term', 'grade', 'sub_grade', 'emp_title', 'emp_length',\n",
       "        'home_ownership', 'verification_status', 'issue_d', 'loan_status',\n",
       "        'pymnt_plan', 'purpose', 'title', 'zip_code', 'addr_state',\n",
       "        'earliest_cr_line', 'revol_util', 'initial_list_status', 'last_pymnt_d',\n",
       "        'last_credit_pull_d', 'application_type', 'hardship_flag',\n",
       "        'debt_settlement_flag', 'debt_settlement_flag_date',\n",
       "        'settlement_status', 'settlement_date'],\n",
       "       dtype='object')}"
      ]
     },
     "execution_count": 18,
     "metadata": {},
     "output_type": "execute_result"
    }
   ],
   "source": [
    "df.columns.to_series().groupby(df.dtypes).groups"
   ]
  },
  {
   "cell_type": "markdown",
   "metadata": {},
   "source": [
    "**Finding percentage of null or missing values in datasets.**\n",
    "\n",
    "Features having more than 80% missing values are not useful in our analysis, hence we are droppping those features.\n",
    "60 features are dropped and dataset size is now (92624 rows × 90 columns)"
   ]
  },
  {
   "cell_type": "code",
   "execution_count": 4,
   "metadata": {},
   "outputs": [
    {
     "data": {
      "text/html": [
       "<div>\n",
       "<style scoped>\n",
       "    .dataframe tbody tr th:only-of-type {\n",
       "        vertical-align: middle;\n",
       "    }\n",
       "\n",
       "    .dataframe tbody tr th {\n",
       "        vertical-align: top;\n",
       "    }\n",
       "\n",
       "    .dataframe thead th {\n",
       "        text-align: right;\n",
       "    }\n",
       "</style>\n",
       "<table border=\"1\" class=\"dataframe\">\n",
       "  <thead>\n",
       "    <tr style=\"text-align: right;\">\n",
       "      <th></th>\n",
       "      <th>Percent null value</th>\n",
       "    </tr>\n",
       "  </thead>\n",
       "  <tbody>\n",
       "    <tr>\n",
       "      <th>id</th>\n",
       "      <td>100.000000</td>\n",
       "    </tr>\n",
       "    <tr>\n",
       "      <th>member_id</th>\n",
       "      <td>100.000000</td>\n",
       "    </tr>\n",
       "    <tr>\n",
       "      <th>emp_title</th>\n",
       "      <td>6.598722</td>\n",
       "    </tr>\n",
       "    <tr>\n",
       "      <th>emp_length</th>\n",
       "      <td>6.600881</td>\n",
       "    </tr>\n",
       "    <tr>\n",
       "      <th>url</th>\n",
       "      <td>100.000000</td>\n",
       "    </tr>\n",
       "    <tr>\n",
       "      <th>...</th>\n",
       "      <td>...</td>\n",
       "    </tr>\n",
       "    <tr>\n",
       "      <th>settlement_status</th>\n",
       "      <td>97.674469</td>\n",
       "    </tr>\n",
       "    <tr>\n",
       "      <th>settlement_date</th>\n",
       "      <td>97.674469</td>\n",
       "    </tr>\n",
       "    <tr>\n",
       "      <th>settlement_amount</th>\n",
       "      <td>97.674469</td>\n",
       "    </tr>\n",
       "    <tr>\n",
       "      <th>settlement_percentage</th>\n",
       "      <td>97.674469</td>\n",
       "    </tr>\n",
       "    <tr>\n",
       "      <th>settlement_term</th>\n",
       "      <td>97.674469</td>\n",
       "    </tr>\n",
       "  </tbody>\n",
       "</table>\n",
       "<p>71 rows × 1 columns</p>\n",
       "</div>"
      ],
      "text/plain": [
       "                       Percent null value\n",
       "id                             100.000000\n",
       "member_id                      100.000000\n",
       "emp_title                        6.598722\n",
       "emp_length                       6.600881\n",
       "url                            100.000000\n",
       "...                                   ...\n",
       "settlement_status               97.674469\n",
       "settlement_date                 97.674469\n",
       "settlement_amount               97.674469\n",
       "settlement_percentage           97.674469\n",
       "settlement_term                 97.674469\n",
       "\n",
       "[71 rows x 1 columns]"
      ]
     },
     "execution_count": 4,
     "metadata": {},
     "output_type": "execute_result"
    }
   ],
   "source": [
    "##Finding percentage of values that are missing in the dataframe.\n",
    "null_df = pd.DataFrame({'Percent null value': 100*df.isnull().sum()/len(df)})\n",
    "\n",
    "##printing columns with null percentage more than 0\n",
    "null_df[null_df['Percent null value'] > 0] "
   ]
  },
  {
   "cell_type": "code",
   "execution_count": 5,
   "metadata": {},
   "outputs": [
    {
     "data": {
      "text/html": [
       "<div>\n",
       "<style scoped>\n",
       "    .dataframe tbody tr th:only-of-type {\n",
       "        vertical-align: middle;\n",
       "    }\n",
       "\n",
       "    .dataframe tbody tr th {\n",
       "        vertical-align: top;\n",
       "    }\n",
       "\n",
       "    .dataframe thead th {\n",
       "        text-align: right;\n",
       "    }\n",
       "</style>\n",
       "<table border=\"1\" class=\"dataframe\">\n",
       "  <thead>\n",
       "    <tr style=\"text-align: right;\">\n",
       "      <th></th>\n",
       "      <th>loan_amnt</th>\n",
       "      <th>funded_amnt</th>\n",
       "      <th>funded_amnt_inv</th>\n",
       "      <th>term</th>\n",
       "      <th>int_rate</th>\n",
       "      <th>installment</th>\n",
       "      <th>grade</th>\n",
       "      <th>sub_grade</th>\n",
       "      <th>emp_title</th>\n",
       "      <th>emp_length</th>\n",
       "      <th>...</th>\n",
       "      <th>pct_tl_nvr_dlq</th>\n",
       "      <th>percent_bc_gt_75</th>\n",
       "      <th>pub_rec_bankruptcies</th>\n",
       "      <th>tax_liens</th>\n",
       "      <th>tot_hi_cred_lim</th>\n",
       "      <th>total_bal_ex_mort</th>\n",
       "      <th>total_bc_limit</th>\n",
       "      <th>total_il_high_credit_limit</th>\n",
       "      <th>hardship_flag</th>\n",
       "      <th>debt_settlement_flag</th>\n",
       "    </tr>\n",
       "  </thead>\n",
       "  <tbody>\n",
       "    <tr>\n",
       "      <th>0</th>\n",
       "      <td>7000</td>\n",
       "      <td>7000</td>\n",
       "      <td>7000</td>\n",
       "      <td>36 months</td>\n",
       "      <td>0.14</td>\n",
       "      <td>239.21</td>\n",
       "      <td>C</td>\n",
       "      <td>C4</td>\n",
       "      <td>facility operator</td>\n",
       "      <td>2 years</td>\n",
       "      <td>...</td>\n",
       "      <td>95.0</td>\n",
       "      <td>66.7</td>\n",
       "      <td>0</td>\n",
       "      <td>0</td>\n",
       "      <td>68213</td>\n",
       "      <td>59105</td>\n",
       "      <td>6000</td>\n",
       "      <td>61113</td>\n",
       "      <td>N</td>\n",
       "      <td>N</td>\n",
       "    </tr>\n",
       "    <tr>\n",
       "      <th>1</th>\n",
       "      <td>6000</td>\n",
       "      <td>6000</td>\n",
       "      <td>6000</td>\n",
       "      <td>36 months</td>\n",
       "      <td>0.14</td>\n",
       "      <td>205.04</td>\n",
       "      <td>C</td>\n",
       "      <td>C4</td>\n",
       "      <td>Team Lead</td>\n",
       "      <td>10+ years</td>\n",
       "      <td>...</td>\n",
       "      <td>100.0</td>\n",
       "      <td>40.0</td>\n",
       "      <td>0</td>\n",
       "      <td>0</td>\n",
       "      <td>117932</td>\n",
       "      <td>29181</td>\n",
       "      <td>19700</td>\n",
       "      <td>18962</td>\n",
       "      <td>N</td>\n",
       "      <td>N</td>\n",
       "    </tr>\n",
       "    <tr>\n",
       "      <th>2</th>\n",
       "      <td>4000</td>\n",
       "      <td>4000</td>\n",
       "      <td>4000</td>\n",
       "      <td>36 months</td>\n",
       "      <td>0.12</td>\n",
       "      <td>133.42</td>\n",
       "      <td>C</td>\n",
       "      <td>C1</td>\n",
       "      <td>Production Painter</td>\n",
       "      <td>1 year</td>\n",
       "      <td>...</td>\n",
       "      <td>63.6</td>\n",
       "      <td>100.0</td>\n",
       "      <td>0</td>\n",
       "      <td>0</td>\n",
       "      <td>38725</td>\n",
       "      <td>39380</td>\n",
       "      <td>9200</td>\n",
       "      <td>26325</td>\n",
       "      <td>N</td>\n",
       "      <td>N</td>\n",
       "    </tr>\n",
       "    <tr>\n",
       "      <th>3</th>\n",
       "      <td>12000</td>\n",
       "      <td>12000</td>\n",
       "      <td>12000</td>\n",
       "      <td>36 months</td>\n",
       "      <td>0.12</td>\n",
       "      <td>400.24</td>\n",
       "      <td>C</td>\n",
       "      <td>C1</td>\n",
       "      <td>Security Hospital Treatment Aide</td>\n",
       "      <td>10+ years</td>\n",
       "      <td>...</td>\n",
       "      <td>100.0</td>\n",
       "      <td>66.7</td>\n",
       "      <td>1</td>\n",
       "      <td>0</td>\n",
       "      <td>28224</td>\n",
       "      <td>14015</td>\n",
       "      <td>9200</td>\n",
       "      <td>11524</td>\n",
       "      <td>N</td>\n",
       "      <td>Y</td>\n",
       "    </tr>\n",
       "    <tr>\n",
       "      <th>4</th>\n",
       "      <td>2500</td>\n",
       "      <td>2500</td>\n",
       "      <td>2500</td>\n",
       "      <td>36 months</td>\n",
       "      <td>0.18</td>\n",
       "      <td>90.21</td>\n",
       "      <td>D</td>\n",
       "      <td>D5</td>\n",
       "      <td>Marketing Manager</td>\n",
       "      <td>5 years</td>\n",
       "      <td>...</td>\n",
       "      <td>100.0</td>\n",
       "      <td>60.0</td>\n",
       "      <td>0</td>\n",
       "      <td>0</td>\n",
       "      <td>52613</td>\n",
       "      <td>49340</td>\n",
       "      <td>11600</td>\n",
       "      <td>36513</td>\n",
       "      <td>N</td>\n",
       "      <td>N</td>\n",
       "    </tr>\n",
       "    <tr>\n",
       "      <th>...</th>\n",
       "      <td>...</td>\n",
       "      <td>...</td>\n",
       "      <td>...</td>\n",
       "      <td>...</td>\n",
       "      <td>...</td>\n",
       "      <td>...</td>\n",
       "      <td>...</td>\n",
       "      <td>...</td>\n",
       "      <td>...</td>\n",
       "      <td>...</td>\n",
       "      <td>...</td>\n",
       "      <td>...</td>\n",
       "      <td>...</td>\n",
       "      <td>...</td>\n",
       "      <td>...</td>\n",
       "      <td>...</td>\n",
       "      <td>...</td>\n",
       "      <td>...</td>\n",
       "      <td>...</td>\n",
       "      <td>...</td>\n",
       "      <td>...</td>\n",
       "    </tr>\n",
       "    <tr>\n",
       "      <th>92619</th>\n",
       "      <td>17100</td>\n",
       "      <td>17100</td>\n",
       "      <td>17100</td>\n",
       "      <td>36 months</td>\n",
       "      <td>0.14</td>\n",
       "      <td>584.36</td>\n",
       "      <td>C</td>\n",
       "      <td>C4</td>\n",
       "      <td>BUS DRIVER</td>\n",
       "      <td>10+ years</td>\n",
       "      <td>...</td>\n",
       "      <td>96.9</td>\n",
       "      <td>25.0</td>\n",
       "      <td>1</td>\n",
       "      <td>0</td>\n",
       "      <td>39300</td>\n",
       "      <td>19466</td>\n",
       "      <td>10600</td>\n",
       "      <td>10800</td>\n",
       "      <td>N</td>\n",
       "      <td>N</td>\n",
       "    </tr>\n",
       "    <tr>\n",
       "      <th>92620</th>\n",
       "      <td>15000</td>\n",
       "      <td>15000</td>\n",
       "      <td>14975</td>\n",
       "      <td>36 months</td>\n",
       "      <td>0.14</td>\n",
       "      <td>512.60</td>\n",
       "      <td>C</td>\n",
       "      <td>C4</td>\n",
       "      <td>Member Relationship Specialist</td>\n",
       "      <td>10+ years</td>\n",
       "      <td>...</td>\n",
       "      <td>95.5</td>\n",
       "      <td>33.3</td>\n",
       "      <td>1</td>\n",
       "      <td>0</td>\n",
       "      <td>62083</td>\n",
       "      <td>3974</td>\n",
       "      <td>7300</td>\n",
       "      <td>183</td>\n",
       "      <td>N</td>\n",
       "      <td>N</td>\n",
       "    </tr>\n",
       "    <tr>\n",
       "      <th>92621</th>\n",
       "      <td>8000</td>\n",
       "      <td>8000</td>\n",
       "      <td>8000</td>\n",
       "      <td>36 months</td>\n",
       "      <td>0.08</td>\n",
       "      <td>250.29</td>\n",
       "      <td>A</td>\n",
       "      <td>A5</td>\n",
       "      <td>Owner</td>\n",
       "      <td>10+ years</td>\n",
       "      <td>...</td>\n",
       "      <td>88.5</td>\n",
       "      <td>20.0</td>\n",
       "      <td>0</td>\n",
       "      <td>9</td>\n",
       "      <td>220084</td>\n",
       "      <td>15196</td>\n",
       "      <td>13900</td>\n",
       "      <td>20534</td>\n",
       "      <td>N</td>\n",
       "      <td>N</td>\n",
       "    </tr>\n",
       "    <tr>\n",
       "      <th>92622</th>\n",
       "      <td>25000</td>\n",
       "      <td>25000</td>\n",
       "      <td>25000</td>\n",
       "      <td>36 months</td>\n",
       "      <td>0.17</td>\n",
       "      <td>885.73</td>\n",
       "      <td>D</td>\n",
       "      <td>D2</td>\n",
       "      <td>Director of Operations</td>\n",
       "      <td>3 years</td>\n",
       "      <td>...</td>\n",
       "      <td>100.0</td>\n",
       "      <td>100.0</td>\n",
       "      <td>0</td>\n",
       "      <td>0</td>\n",
       "      <td>491449</td>\n",
       "      <td>97581</td>\n",
       "      <td>33100</td>\n",
       "      <td>44504</td>\n",
       "      <td>N</td>\n",
       "      <td>N</td>\n",
       "    </tr>\n",
       "    <tr>\n",
       "      <th>92623</th>\n",
       "      <td>25000</td>\n",
       "      <td>25000</td>\n",
       "      <td>25000</td>\n",
       "      <td>36 months</td>\n",
       "      <td>0.07</td>\n",
       "      <td>768.28</td>\n",
       "      <td>A</td>\n",
       "      <td>A3</td>\n",
       "      <td>stock broker</td>\n",
       "      <td>5 years</td>\n",
       "      <td>...</td>\n",
       "      <td>100.0</td>\n",
       "      <td>100.0</td>\n",
       "      <td>0</td>\n",
       "      <td>0</td>\n",
       "      <td>176065</td>\n",
       "      <td>55651</td>\n",
       "      <td>40200</td>\n",
       "      <td>19832</td>\n",
       "      <td>N</td>\n",
       "      <td>N</td>\n",
       "    </tr>\n",
       "  </tbody>\n",
       "</table>\n",
       "<p>92624 rows × 90 columns</p>\n",
       "</div>"
      ],
      "text/plain": [
       "       loan_amnt  funded_amnt  funded_amnt_inv       term  int_rate  \\\n",
       "0           7000         7000             7000  36 months      0.14   \n",
       "1           6000         6000             6000  36 months      0.14   \n",
       "2           4000         4000             4000  36 months      0.12   \n",
       "3          12000        12000            12000  36 months      0.12   \n",
       "4           2500         2500             2500  36 months      0.18   \n",
       "...          ...          ...              ...        ...       ...   \n",
       "92619      17100        17100            17100  36 months      0.14   \n",
       "92620      15000        15000            14975  36 months      0.14   \n",
       "92621       8000         8000             8000  36 months      0.08   \n",
       "92622      25000        25000            25000  36 months      0.17   \n",
       "92623      25000        25000            25000  36 months      0.07   \n",
       "\n",
       "       installment grade sub_grade                         emp_title  \\\n",
       "0           239.21     C        C4                 facility operator   \n",
       "1           205.04     C        C4                         Team Lead   \n",
       "2           133.42     C        C1                Production Painter   \n",
       "3           400.24     C        C1  Security Hospital Treatment Aide   \n",
       "4            90.21     D        D5                 Marketing Manager   \n",
       "...            ...   ...       ...                               ...   \n",
       "92619       584.36     C        C4                        BUS DRIVER   \n",
       "92620       512.60     C        C4    Member Relationship Specialist   \n",
       "92621       250.29     A        A5                             Owner   \n",
       "92622       885.73     D        D2            Director of Operations   \n",
       "92623       768.28     A        A3                      stock broker   \n",
       "\n",
       "      emp_length  ... pct_tl_nvr_dlq  percent_bc_gt_75 pub_rec_bankruptcies  \\\n",
       "0        2 years  ...           95.0              66.7                    0   \n",
       "1      10+ years  ...          100.0              40.0                    0   \n",
       "2         1 year  ...           63.6             100.0                    0   \n",
       "3      10+ years  ...          100.0              66.7                    1   \n",
       "4        5 years  ...          100.0              60.0                    0   \n",
       "...          ...  ...            ...               ...                  ...   \n",
       "92619  10+ years  ...           96.9              25.0                    1   \n",
       "92620  10+ years  ...           95.5              33.3                    1   \n",
       "92621  10+ years  ...           88.5              20.0                    0   \n",
       "92622    3 years  ...          100.0             100.0                    0   \n",
       "92623    5 years  ...          100.0             100.0                    0   \n",
       "\n",
       "      tax_liens tot_hi_cred_lim total_bal_ex_mort total_bc_limit  \\\n",
       "0             0           68213             59105           6000   \n",
       "1             0          117932             29181          19700   \n",
       "2             0           38725             39380           9200   \n",
       "3             0           28224             14015           9200   \n",
       "4             0           52613             49340          11600   \n",
       "...         ...             ...               ...            ...   \n",
       "92619         0           39300             19466          10600   \n",
       "92620         0           62083              3974           7300   \n",
       "92621         9          220084             15196          13900   \n",
       "92622         0          491449             97581          33100   \n",
       "92623         0          176065             55651          40200   \n",
       "\n",
       "      total_il_high_credit_limit hardship_flag debt_settlement_flag  \n",
       "0                          61113             N                    N  \n",
       "1                          18962             N                    N  \n",
       "2                          26325             N                    N  \n",
       "3                          11524             N                    Y  \n",
       "4                          36513             N                    N  \n",
       "...                          ...           ...                  ...  \n",
       "92619                      10800             N                    N  \n",
       "92620                        183             N                    N  \n",
       "92621                      20534             N                    N  \n",
       "92622                      44504             N                    N  \n",
       "92623                      19832             N                    N  \n",
       "\n",
       "[92624 rows x 90 columns]"
      ]
     },
     "execution_count": 5,
     "metadata": {},
     "output_type": "execute_result"
    }
   ],
   "source": [
    "df.dropna(axis=1, thresh=int(0.80*len(df)), inplace=True)\n",
    "df"
   ]
  },
  {
   "cell_type": "code",
   "execution_count": 86,
   "metadata": {},
   "outputs": [
    {
     "data": {
      "text/plain": [
       "Index(['emp_title', 'emp_length', 'revol_util', 'last_pymnt_d',\n",
       "       'bc_open_to_buy', 'bc_util', 'mo_sin_old_il_acct',\n",
       "       'mths_since_recent_bc', 'mths_since_recent_inq', 'num_tl_120dpd_2m',\n",
       "       'percent_bc_gt_75'],\n",
       "      dtype='object')"
      ]
     },
     "execution_count": 86,
     "metadata": {},
     "output_type": "execute_result"
    }
   ],
   "source": [
    "## Checking columns which has null values\n",
    "\n",
    "df.columns[df.isnull().any()]"
   ]
  },
  {
   "cell_type": "code",
   "execution_count": 23,
   "metadata": {},
   "outputs": [
    {
     "data": {
      "text/html": [
       "<div>\n",
       "<style scoped>\n",
       "    .dataframe tbody tr th:only-of-type {\n",
       "        vertical-align: middle;\n",
       "    }\n",
       "\n",
       "    .dataframe tbody tr th {\n",
       "        vertical-align: top;\n",
       "    }\n",
       "\n",
       "    .dataframe thead th {\n",
       "        text-align: right;\n",
       "    }\n",
       "</style>\n",
       "<table border=\"1\" class=\"dataframe\">\n",
       "  <thead>\n",
       "    <tr style=\"text-align: right;\">\n",
       "      <th></th>\n",
       "      <th>loan_amnt</th>\n",
       "      <th>funded_amnt</th>\n",
       "      <th>funded_amnt_inv</th>\n",
       "      <th>term</th>\n",
       "      <th>int_rate</th>\n",
       "      <th>installment</th>\n",
       "      <th>grade</th>\n",
       "      <th>sub_grade</th>\n",
       "      <th>emp_title</th>\n",
       "      <th>emp_length</th>\n",
       "      <th>...</th>\n",
       "      <th>pct_tl_nvr_dlq</th>\n",
       "      <th>percent_bc_gt_75</th>\n",
       "      <th>pub_rec_bankruptcies</th>\n",
       "      <th>tax_liens</th>\n",
       "      <th>tot_hi_cred_lim</th>\n",
       "      <th>total_bal_ex_mort</th>\n",
       "      <th>total_bc_limit</th>\n",
       "      <th>total_il_high_credit_limit</th>\n",
       "      <th>hardship_flag</th>\n",
       "      <th>debt_settlement_flag</th>\n",
       "    </tr>\n",
       "  </thead>\n",
       "  <tbody>\n",
       "  </tbody>\n",
       "</table>\n",
       "<p>0 rows × 90 columns</p>\n",
       "</div>"
      ],
      "text/plain": [
       "Empty DataFrame\n",
       "Columns: [loan_amnt, funded_amnt, funded_amnt_inv, term, int_rate, installment, grade, sub_grade, emp_title, emp_length, home_ownership, annual_inc, verification_status, issue_d, loan_status, pymnt_plan, purpose, title, zip_code, addr_state, dti, delinq_2yrs, earliest_cr_line, fico_range_low, fico_range_high, inq_last_6mths, open_acc, pub_rec, revol_bal, revol_util, total_acc, initial_list_status, out_prncp, out_prncp_inv, total_pymnt, total_pymnt_inv, total_rec_prncp, total_rec_int, total_rec_late_fee, recoveries, collection_recovery_fee, last_pymnt_d, last_pymnt_amnt, last_credit_pull_d, last_fico_range_high, last_fico_range_low, collections_12_mths_ex_med, policy_code, application_type, acc_now_delinq, tot_coll_amt, tot_cur_bal, total_rev_hi_lim, acc_open_past_24mths, avg_cur_bal, bc_open_to_buy, bc_util, chargeoff_within_12_mths, delinq_amnt, mo_sin_old_il_acct, mo_sin_old_rev_tl_op, mo_sin_rcnt_rev_tl_op, mo_sin_rcnt_tl, mort_acc, mths_since_recent_bc, mths_since_recent_inq, num_accts_ever_120_pd, num_actv_bc_tl, num_actv_rev_tl, num_bc_sats, num_bc_tl, num_il_tl, num_op_rev_tl, num_rev_accts, num_rev_tl_bal_gt_0, num_sats, num_tl_120dpd_2m, num_tl_30dpd, num_tl_90g_dpd_24m, num_tl_op_past_12m, pct_tl_nvr_dlq, percent_bc_gt_75, pub_rec_bankruptcies, tax_liens, tot_hi_cred_lim, total_bal_ex_mort, total_bc_limit, total_il_high_credit_limit, hardship_flag, debt_settlement_flag]\n",
       "Index: []\n",
       "\n",
       "[0 rows x 90 columns]"
      ]
     },
     "execution_count": 23,
     "metadata": {},
     "output_type": "execute_result"
    }
   ],
   "source": [
    "# Target feature is loan_status, hence we are checking if there are any columns where loan_status value is null. If yes, we can drop those rows\n",
    "\n",
    "null_rows = df[df['loan_status'].isnull()]\n",
    "null_rows"
   ]
  },
  {
   "cell_type": "markdown",
   "metadata": {},
   "source": [
    "Let's list our features in slices to see what we actually need. This step will involve dropping of useless features and modifying/changing other features to make them apt for model building."
   ]
  },
  {
   "cell_type": "code",
   "execution_count": 29,
   "metadata": {},
   "outputs": [
    {
     "data": {
      "text/html": [
       "<div>\n",
       "<style scoped>\n",
       "    .dataframe tbody tr th:only-of-type {\n",
       "        vertical-align: middle;\n",
       "    }\n",
       "\n",
       "    .dataframe tbody tr th {\n",
       "        vertical-align: top;\n",
       "    }\n",
       "\n",
       "    .dataframe thead th {\n",
       "        text-align: right;\n",
       "    }\n",
       "</style>\n",
       "<table border=\"1\" class=\"dataframe\">\n",
       "  <thead>\n",
       "    <tr style=\"text-align: right;\">\n",
       "      <th></th>\n",
       "      <th>loan_amnt</th>\n",
       "      <th>funded_amnt</th>\n",
       "      <th>funded_amnt_inv</th>\n",
       "      <th>term</th>\n",
       "      <th>int_rate</th>\n",
       "      <th>installment</th>\n",
       "      <th>grade</th>\n",
       "      <th>sub_grade</th>\n",
       "      <th>emp_title</th>\n",
       "      <th>emp_length</th>\n",
       "      <th>...</th>\n",
       "      <th>dti</th>\n",
       "      <th>delinq_2yrs</th>\n",
       "      <th>earliest_cr_line</th>\n",
       "      <th>fico_range_low</th>\n",
       "      <th>fico_range_high</th>\n",
       "      <th>inq_last_6mths</th>\n",
       "      <th>open_acc</th>\n",
       "      <th>pub_rec</th>\n",
       "      <th>revol_bal</th>\n",
       "      <th>revol_util</th>\n",
       "    </tr>\n",
       "  </thead>\n",
       "  <tbody>\n",
       "    <tr>\n",
       "      <th>0</th>\n",
       "      <td>7000</td>\n",
       "      <td>7000</td>\n",
       "      <td>7000</td>\n",
       "      <td>36 months</td>\n",
       "      <td>0.14</td>\n",
       "      <td>239.21</td>\n",
       "      <td>C</td>\n",
       "      <td>C4</td>\n",
       "      <td>facility operator</td>\n",
       "      <td>2 years</td>\n",
       "      <td>...</td>\n",
       "      <td>21.62</td>\n",
       "      <td>1</td>\n",
       "      <td>11-Sep</td>\n",
       "      <td>660</td>\n",
       "      <td>664</td>\n",
       "      <td>0</td>\n",
       "      <td>8</td>\n",
       "      <td>0</td>\n",
       "      <td>5695</td>\n",
       "      <td>80.20%</td>\n",
       "    </tr>\n",
       "    <tr>\n",
       "      <th>1</th>\n",
       "      <td>6000</td>\n",
       "      <td>6000</td>\n",
       "      <td>6000</td>\n",
       "      <td>36 months</td>\n",
       "      <td>0.14</td>\n",
       "      <td>205.04</td>\n",
       "      <td>C</td>\n",
       "      <td>C4</td>\n",
       "      <td>Team Lead</td>\n",
       "      <td>10+ years</td>\n",
       "      <td>...</td>\n",
       "      <td>25.28</td>\n",
       "      <td>0</td>\n",
       "      <td>9-Nov</td>\n",
       "      <td>685</td>\n",
       "      <td>689</td>\n",
       "      <td>1</td>\n",
       "      <td>10</td>\n",
       "      <td>0</td>\n",
       "      <td>12113</td>\n",
       "      <td>51.10%</td>\n",
       "    </tr>\n",
       "    <tr>\n",
       "      <th>2</th>\n",
       "      <td>4000</td>\n",
       "      <td>4000</td>\n",
       "      <td>4000</td>\n",
       "      <td>36 months</td>\n",
       "      <td>0.12</td>\n",
       "      <td>133.42</td>\n",
       "      <td>C</td>\n",
       "      <td>C1</td>\n",
       "      <td>Production Painter</td>\n",
       "      <td>1 year</td>\n",
       "      <td>...</td>\n",
       "      <td>38.73</td>\n",
       "      <td>7</td>\n",
       "      <td>5-Jul</td>\n",
       "      <td>660</td>\n",
       "      <td>664</td>\n",
       "      <td>0</td>\n",
       "      <td>14</td>\n",
       "      <td>0</td>\n",
       "      <td>8339</td>\n",
       "      <td>67.20%</td>\n",
       "    </tr>\n",
       "    <tr>\n",
       "      <th>3</th>\n",
       "      <td>12000</td>\n",
       "      <td>12000</td>\n",
       "      <td>12000</td>\n",
       "      <td>36 months</td>\n",
       "      <td>0.12</td>\n",
       "      <td>400.24</td>\n",
       "      <td>C</td>\n",
       "      <td>C1</td>\n",
       "      <td>Security Hospital Treatment Aide</td>\n",
       "      <td>10+ years</td>\n",
       "      <td>...</td>\n",
       "      <td>9.69</td>\n",
       "      <td>0</td>\n",
       "      <td>6-May</td>\n",
       "      <td>665</td>\n",
       "      <td>669</td>\n",
       "      <td>0</td>\n",
       "      <td>12</td>\n",
       "      <td>1</td>\n",
       "      <td>8105</td>\n",
       "      <td>48.50%</td>\n",
       "    </tr>\n",
       "    <tr>\n",
       "      <th>4</th>\n",
       "      <td>2500</td>\n",
       "      <td>2500</td>\n",
       "      <td>2500</td>\n",
       "      <td>36 months</td>\n",
       "      <td>0.18</td>\n",
       "      <td>90.21</td>\n",
       "      <td>D</td>\n",
       "      <td>D5</td>\n",
       "      <td>Marketing Manager</td>\n",
       "      <td>5 years</td>\n",
       "      <td>...</td>\n",
       "      <td>20.38</td>\n",
       "      <td>0</td>\n",
       "      <td>5-Oct</td>\n",
       "      <td>675</td>\n",
       "      <td>679</td>\n",
       "      <td>1</td>\n",
       "      <td>11</td>\n",
       "      <td>0</td>\n",
       "      <td>13117</td>\n",
       "      <td>81.50%</td>\n",
       "    </tr>\n",
       "  </tbody>\n",
       "</table>\n",
       "<p>5 rows × 30 columns</p>\n",
       "</div>"
      ],
      "text/plain": [
       "   loan_amnt  funded_amnt  funded_amnt_inv       term  int_rate  installment  \\\n",
       "0       7000         7000             7000  36 months      0.14       239.21   \n",
       "1       6000         6000             6000  36 months      0.14       205.04   \n",
       "2       4000         4000             4000  36 months      0.12       133.42   \n",
       "3      12000        12000            12000  36 months      0.12       400.24   \n",
       "4       2500         2500             2500  36 months      0.18        90.21   \n",
       "\n",
       "  grade sub_grade                         emp_title emp_length  ...    dti  \\\n",
       "0     C        C4                 facility operator    2 years  ...  21.62   \n",
       "1     C        C4                         Team Lead  10+ years  ...  25.28   \n",
       "2     C        C1                Production Painter     1 year  ...  38.73   \n",
       "3     C        C1  Security Hospital Treatment Aide  10+ years  ...   9.69   \n",
       "4     D        D5                 Marketing Manager    5 years  ...  20.38   \n",
       "\n",
       "   delinq_2yrs earliest_cr_line fico_range_low fico_range_high inq_last_6mths  \\\n",
       "0            1           11-Sep            660             664              0   \n",
       "1            0            9-Nov            685             689              1   \n",
       "2            7            5-Jul            660             664              0   \n",
       "3            0            6-May            665             669              0   \n",
       "4            0            5-Oct            675             679              1   \n",
       "\n",
       "  open_acc pub_rec revol_bal revol_util  \n",
       "0        8       0      5695     80.20%  \n",
       "1       10       0     12113     51.10%  \n",
       "2       14       0      8339     67.20%  \n",
       "3       12       1      8105     48.50%  \n",
       "4       11       0     13117     81.50%  \n",
       "\n",
       "[5 rows x 30 columns]"
      ]
     },
     "execution_count": 29,
     "metadata": {},
     "output_type": "execute_result"
    }
   ],
   "source": [
    "df.iloc[:5, : 30]"
   ]
  },
  {
   "cell_type": "code",
   "execution_count": 30,
   "metadata": {},
   "outputs": [
    {
     "data": {
      "text/html": [
       "<div>\n",
       "<style scoped>\n",
       "    .dataframe tbody tr th:only-of-type {\n",
       "        vertical-align: middle;\n",
       "    }\n",
       "\n",
       "    .dataframe tbody tr th {\n",
       "        vertical-align: top;\n",
       "    }\n",
       "\n",
       "    .dataframe thead th {\n",
       "        text-align: right;\n",
       "    }\n",
       "</style>\n",
       "<table border=\"1\" class=\"dataframe\">\n",
       "  <thead>\n",
       "    <tr style=\"text-align: right;\">\n",
       "      <th></th>\n",
       "      <th>total_acc</th>\n",
       "      <th>initial_list_status</th>\n",
       "      <th>out_prncp</th>\n",
       "      <th>out_prncp_inv</th>\n",
       "      <th>total_pymnt</th>\n",
       "      <th>total_pymnt_inv</th>\n",
       "      <th>total_rec_prncp</th>\n",
       "      <th>total_rec_int</th>\n",
       "      <th>total_rec_late_fee</th>\n",
       "      <th>recoveries</th>\n",
       "      <th>...</th>\n",
       "      <th>tot_coll_amt</th>\n",
       "      <th>tot_cur_bal</th>\n",
       "      <th>total_rev_hi_lim</th>\n",
       "      <th>acc_open_past_24mths</th>\n",
       "      <th>avg_cur_bal</th>\n",
       "      <th>bc_open_to_buy</th>\n",
       "      <th>bc_util</th>\n",
       "      <th>chargeoff_within_12_mths</th>\n",
       "      <th>delinq_amnt</th>\n",
       "      <th>mo_sin_old_il_acct</th>\n",
       "    </tr>\n",
       "  </thead>\n",
       "  <tbody>\n",
       "    <tr>\n",
       "      <th>0</th>\n",
       "      <td>20</td>\n",
       "      <td>f</td>\n",
       "      <td>0</td>\n",
       "      <td>0</td>\n",
       "      <td>2937.50000</td>\n",
       "      <td>2937.50</td>\n",
       "      <td>1523.26</td>\n",
       "      <td>874.19</td>\n",
       "      <td>0.0</td>\n",
       "      <td>540.05</td>\n",
       "      <td>...</td>\n",
       "      <td>0</td>\n",
       "      <td>59105</td>\n",
       "      <td>7100</td>\n",
       "      <td>8</td>\n",
       "      <td>7388</td>\n",
       "      <td>305.0</td>\n",
       "      <td>94.9</td>\n",
       "      <td>0</td>\n",
       "      <td>0</td>\n",
       "      <td>46.0</td>\n",
       "    </tr>\n",
       "    <tr>\n",
       "      <th>1</th>\n",
       "      <td>17</td>\n",
       "      <td>f</td>\n",
       "      <td>0</td>\n",
       "      <td>0</td>\n",
       "      <td>3913.07000</td>\n",
       "      <td>3913.07</td>\n",
       "      <td>2368.19</td>\n",
       "      <td>731.89</td>\n",
       "      <td>0.0</td>\n",
       "      <td>812.99</td>\n",
       "      <td>...</td>\n",
       "      <td>0</td>\n",
       "      <td>103108</td>\n",
       "      <td>23700</td>\n",
       "      <td>5</td>\n",
       "      <td>10311</td>\n",
       "      <td>8216.0</td>\n",
       "      <td>58.3</td>\n",
       "      <td>0</td>\n",
       "      <td>0</td>\n",
       "      <td>56.0</td>\n",
       "    </tr>\n",
       "    <tr>\n",
       "      <th>2</th>\n",
       "      <td>23</td>\n",
       "      <td>f</td>\n",
       "      <td>0</td>\n",
       "      <td>0</td>\n",
       "      <td>581.02000</td>\n",
       "      <td>581.02</td>\n",
       "      <td>0.00</td>\n",
       "      <td>0.00</td>\n",
       "      <td>0.0</td>\n",
       "      <td>581.02</td>\n",
       "      <td>...</td>\n",
       "      <td>0</td>\n",
       "      <td>39380</td>\n",
       "      <td>12400</td>\n",
       "      <td>2</td>\n",
       "      <td>3282</td>\n",
       "      <td>861.0</td>\n",
       "      <td>90.6</td>\n",
       "      <td>0</td>\n",
       "      <td>0</td>\n",
       "      <td>120.0</td>\n",
       "    </tr>\n",
       "    <tr>\n",
       "      <th>3</th>\n",
       "      <td>16</td>\n",
       "      <td>f</td>\n",
       "      <td>0</td>\n",
       "      <td>0</td>\n",
       "      <td>12880.77000</td>\n",
       "      <td>12880.77</td>\n",
       "      <td>9309.82</td>\n",
       "      <td>2288.95</td>\n",
       "      <td>0.0</td>\n",
       "      <td>1282.00</td>\n",
       "      <td>...</td>\n",
       "      <td>0</td>\n",
       "      <td>14015</td>\n",
       "      <td>16700</td>\n",
       "      <td>7</td>\n",
       "      <td>1274</td>\n",
       "      <td>2572.0</td>\n",
       "      <td>72.0</td>\n",
       "      <td>0</td>\n",
       "      <td>0</td>\n",
       "      <td>112.0</td>\n",
       "    </tr>\n",
       "    <tr>\n",
       "      <th>4</th>\n",
       "      <td>30</td>\n",
       "      <td>f</td>\n",
       "      <td>0</td>\n",
       "      <td>0</td>\n",
       "      <td>3122.87703</td>\n",
       "      <td>3122.88</td>\n",
       "      <td>2500.00</td>\n",
       "      <td>622.88</td>\n",
       "      <td>0.0</td>\n",
       "      <td>0.00</td>\n",
       "      <td>...</td>\n",
       "      <td>0</td>\n",
       "      <td>49340</td>\n",
       "      <td>16100</td>\n",
       "      <td>2</td>\n",
       "      <td>4485</td>\n",
       "      <td>1396.0</td>\n",
       "      <td>88.0</td>\n",
       "      <td>0</td>\n",
       "      <td>0</td>\n",
       "      <td>115.0</td>\n",
       "    </tr>\n",
       "  </tbody>\n",
       "</table>\n",
       "<p>5 rows × 30 columns</p>\n",
       "</div>"
      ],
      "text/plain": [
       "   total_acc initial_list_status  out_prncp  out_prncp_inv  total_pymnt  \\\n",
       "0         20                   f          0              0   2937.50000   \n",
       "1         17                   f          0              0   3913.07000   \n",
       "2         23                   f          0              0    581.02000   \n",
       "3         16                   f          0              0  12880.77000   \n",
       "4         30                   f          0              0   3122.87703   \n",
       "\n",
       "   total_pymnt_inv  total_rec_prncp  total_rec_int  total_rec_late_fee  \\\n",
       "0          2937.50          1523.26         874.19                 0.0   \n",
       "1          3913.07          2368.19         731.89                 0.0   \n",
       "2           581.02             0.00           0.00                 0.0   \n",
       "3         12880.77          9309.82        2288.95                 0.0   \n",
       "4          3122.88          2500.00         622.88                 0.0   \n",
       "\n",
       "   recoveries  ...  tot_coll_amt tot_cur_bal  total_rev_hi_lim  \\\n",
       "0      540.05  ...             0       59105              7100   \n",
       "1      812.99  ...             0      103108             23700   \n",
       "2      581.02  ...             0       39380             12400   \n",
       "3     1282.00  ...             0       14015             16700   \n",
       "4        0.00  ...             0       49340             16100   \n",
       "\n",
       "  acc_open_past_24mths  avg_cur_bal  bc_open_to_buy  bc_util  \\\n",
       "0                    8         7388           305.0     94.9   \n",
       "1                    5        10311          8216.0     58.3   \n",
       "2                    2         3282           861.0     90.6   \n",
       "3                    7         1274          2572.0     72.0   \n",
       "4                    2         4485          1396.0     88.0   \n",
       "\n",
       "   chargeoff_within_12_mths delinq_amnt  mo_sin_old_il_acct  \n",
       "0                         0           0                46.0  \n",
       "1                         0           0                56.0  \n",
       "2                         0           0               120.0  \n",
       "3                         0           0               112.0  \n",
       "4                         0           0               115.0  \n",
       "\n",
       "[5 rows x 30 columns]"
      ]
     },
     "execution_count": 30,
     "metadata": {},
     "output_type": "execute_result"
    }
   ],
   "source": [
    "df.iloc[:5, 30: 60]"
   ]
  },
  {
   "cell_type": "code",
   "execution_count": 31,
   "metadata": {},
   "outputs": [
    {
     "data": {
      "text/html": [
       "<div>\n",
       "<style scoped>\n",
       "    .dataframe tbody tr th:only-of-type {\n",
       "        vertical-align: middle;\n",
       "    }\n",
       "\n",
       "    .dataframe tbody tr th {\n",
       "        vertical-align: top;\n",
       "    }\n",
       "\n",
       "    .dataframe thead th {\n",
       "        text-align: right;\n",
       "    }\n",
       "</style>\n",
       "<table border=\"1\" class=\"dataframe\">\n",
       "  <thead>\n",
       "    <tr style=\"text-align: right;\">\n",
       "      <th></th>\n",
       "      <th>mo_sin_old_rev_tl_op</th>\n",
       "      <th>mo_sin_rcnt_rev_tl_op</th>\n",
       "      <th>mo_sin_rcnt_tl</th>\n",
       "      <th>mort_acc</th>\n",
       "      <th>mths_since_recent_bc</th>\n",
       "      <th>mths_since_recent_inq</th>\n",
       "      <th>num_accts_ever_120_pd</th>\n",
       "      <th>num_actv_bc_tl</th>\n",
       "      <th>num_actv_rev_tl</th>\n",
       "      <th>num_bc_sats</th>\n",
       "      <th>...</th>\n",
       "      <th>pct_tl_nvr_dlq</th>\n",
       "      <th>percent_bc_gt_75</th>\n",
       "      <th>pub_rec_bankruptcies</th>\n",
       "      <th>tax_liens</th>\n",
       "      <th>tot_hi_cred_lim</th>\n",
       "      <th>total_bal_ex_mort</th>\n",
       "      <th>total_bc_limit</th>\n",
       "      <th>total_il_high_credit_limit</th>\n",
       "      <th>hardship_flag</th>\n",
       "      <th>debt_settlement_flag</th>\n",
       "    </tr>\n",
       "  </thead>\n",
       "  <tbody>\n",
       "    <tr>\n",
       "      <th>0</th>\n",
       "      <td>48</td>\n",
       "      <td>15</td>\n",
       "      <td>5</td>\n",
       "      <td>0</td>\n",
       "      <td>23.0</td>\n",
       "      <td>12.0</td>\n",
       "      <td>0</td>\n",
       "      <td>2</td>\n",
       "      <td>2</td>\n",
       "      <td>3</td>\n",
       "      <td>...</td>\n",
       "      <td>95.0</td>\n",
       "      <td>66.7</td>\n",
       "      <td>0</td>\n",
       "      <td>0</td>\n",
       "      <td>68213</td>\n",
       "      <td>59105</td>\n",
       "      <td>6000</td>\n",
       "      <td>61113</td>\n",
       "      <td>N</td>\n",
       "      <td>N</td>\n",
       "    </tr>\n",
       "    <tr>\n",
       "      <th>1</th>\n",
       "      <td>70</td>\n",
       "      <td>9</td>\n",
       "      <td>9</td>\n",
       "      <td>1</td>\n",
       "      <td>9.0</td>\n",
       "      <td>2.0</td>\n",
       "      <td>0</td>\n",
       "      <td>3</td>\n",
       "      <td>5</td>\n",
       "      <td>5</td>\n",
       "      <td>...</td>\n",
       "      <td>100.0</td>\n",
       "      <td>40.0</td>\n",
       "      <td>0</td>\n",
       "      <td>0</td>\n",
       "      <td>117932</td>\n",
       "      <td>29181</td>\n",
       "      <td>19700</td>\n",
       "      <td>18962</td>\n",
       "      <td>N</td>\n",
       "      <td>N</td>\n",
       "    </tr>\n",
       "    <tr>\n",
       "      <th>2</th>\n",
       "      <td>122</td>\n",
       "      <td>21</td>\n",
       "      <td>21</td>\n",
       "      <td>0</td>\n",
       "      <td>73.0</td>\n",
       "      <td>NaN</td>\n",
       "      <td>6</td>\n",
       "      <td>2</td>\n",
       "      <td>2</td>\n",
       "      <td>2</td>\n",
       "      <td>...</td>\n",
       "      <td>63.6</td>\n",
       "      <td>100.0</td>\n",
       "      <td>0</td>\n",
       "      <td>0</td>\n",
       "      <td>38725</td>\n",
       "      <td>39380</td>\n",
       "      <td>9200</td>\n",
       "      <td>26325</td>\n",
       "      <td>N</td>\n",
       "      <td>N</td>\n",
       "    </tr>\n",
       "    <tr>\n",
       "      <th>3</th>\n",
       "      <td>87</td>\n",
       "      <td>12</td>\n",
       "      <td>12</td>\n",
       "      <td>0</td>\n",
       "      <td>13.0</td>\n",
       "      <td>11.0</td>\n",
       "      <td>0</td>\n",
       "      <td>3</td>\n",
       "      <td>6</td>\n",
       "      <td>3</td>\n",
       "      <td>...</td>\n",
       "      <td>100.0</td>\n",
       "      <td>66.7</td>\n",
       "      <td>1</td>\n",
       "      <td>0</td>\n",
       "      <td>28224</td>\n",
       "      <td>14015</td>\n",
       "      <td>9200</td>\n",
       "      <td>11524</td>\n",
       "      <td>N</td>\n",
       "      <td>Y</td>\n",
       "    </tr>\n",
       "    <tr>\n",
       "      <th>4</th>\n",
       "      <td>119</td>\n",
       "      <td>34</td>\n",
       "      <td>9</td>\n",
       "      <td>0</td>\n",
       "      <td>62.0</td>\n",
       "      <td>2.0</td>\n",
       "      <td>0</td>\n",
       "      <td>4</td>\n",
       "      <td>6</td>\n",
       "      <td>5</td>\n",
       "      <td>...</td>\n",
       "      <td>100.0</td>\n",
       "      <td>60.0</td>\n",
       "      <td>0</td>\n",
       "      <td>0</td>\n",
       "      <td>52613</td>\n",
       "      <td>49340</td>\n",
       "      <td>11600</td>\n",
       "      <td>36513</td>\n",
       "      <td>N</td>\n",
       "      <td>N</td>\n",
       "    </tr>\n",
       "  </tbody>\n",
       "</table>\n",
       "<p>5 rows × 30 columns</p>\n",
       "</div>"
      ],
      "text/plain": [
       "   mo_sin_old_rev_tl_op  mo_sin_rcnt_rev_tl_op  mo_sin_rcnt_tl  mort_acc  \\\n",
       "0                    48                     15               5         0   \n",
       "1                    70                      9               9         1   \n",
       "2                   122                     21              21         0   \n",
       "3                    87                     12              12         0   \n",
       "4                   119                     34               9         0   \n",
       "\n",
       "   mths_since_recent_bc  mths_since_recent_inq  num_accts_ever_120_pd  \\\n",
       "0                  23.0                   12.0                      0   \n",
       "1                   9.0                    2.0                      0   \n",
       "2                  73.0                    NaN                      6   \n",
       "3                  13.0                   11.0                      0   \n",
       "4                  62.0                    2.0                      0   \n",
       "\n",
       "   num_actv_bc_tl  num_actv_rev_tl  num_bc_sats  ...  pct_tl_nvr_dlq  \\\n",
       "0               2                2            3  ...            95.0   \n",
       "1               3                5            5  ...           100.0   \n",
       "2               2                2            2  ...            63.6   \n",
       "3               3                6            3  ...           100.0   \n",
       "4               4                6            5  ...           100.0   \n",
       "\n",
       "   percent_bc_gt_75  pub_rec_bankruptcies  tax_liens  tot_hi_cred_lim  \\\n",
       "0              66.7                     0          0            68213   \n",
       "1              40.0                     0          0           117932   \n",
       "2             100.0                     0          0            38725   \n",
       "3              66.7                     1          0            28224   \n",
       "4              60.0                     0          0            52613   \n",
       "\n",
       "   total_bal_ex_mort  total_bc_limit  total_il_high_credit_limit  \\\n",
       "0              59105            6000                       61113   \n",
       "1              29181           19700                       18962   \n",
       "2              39380            9200                       26325   \n",
       "3              14015            9200                       11524   \n",
       "4              49340           11600                       36513   \n",
       "\n",
       "   hardship_flag  debt_settlement_flag  \n",
       "0              N                     N  \n",
       "1              N                     N  \n",
       "2              N                     N  \n",
       "3              N                     Y  \n",
       "4              N                     N  \n",
       "\n",
       "[5 rows x 30 columns]"
      ]
     },
     "execution_count": 31,
     "metadata": {},
     "output_type": "execute_result"
    }
   ],
   "source": [
    "df.iloc[:5, 60:]"
   ]
  },
  {
   "cell_type": "markdown",
   "metadata": {},
   "source": [
    "After looking into above feature details carefully, we came to a coclusion that below feature data will not be present while lending the loan. So we do not need them for our predictions:\n",
    "\n",
    "    'revol_util','acc_now_delinq', 'acc_open_past_24mths', 'avg_cur_bal', 'bc_open_to_buy', 'bc_util', 'chargeoff_within_12_mths', 'collection_recovery_fee', 'collections_12_mths_ex_med', 'debt_settlement_flag', 'delinq_2yrs', 'delinq_amnt', 'funded_amnt', 'funded_amnt_inv', 'hardship_flag', 'inq_last_6mths', 'last_credit_pull_d', 'last_fico_range_high', 'last_fico_range_low', 'last_pymnt_amnt', 'last_pymnt_d', 'mo_sin_rcnt_rev_tl_op', 'mo_sin_rcnt_tl', 'mths_since_recent_bc', 'mths_since_recent_inq', 'num_accts_ever_120_pd', 'num_actv_bc_tl', 'num_actv_rev_tl', 'num_bc_sats', 'num_bc_tl', 'num_il_tl', 'num_op_rev_tl', 'num_rev_accts', 'num_rev_tl_bal_gt_0', 'num_sats', 'num_tl_120dpd_2m', 'num_tl_30dpd', 'num_tl_90g_dpd_24m', 'num_tl_op_past_12m',  'out_prncp', 'out_prncp_inv', 'pct_tl_nvr_dlq', 'percent_bc_gt_75', 'pymnt_plan', 'recoveries', 'tax_liens', 'tot_coll_amt', 'tot_cur_bal', 'tot_hi_cred_lim', 'total_bal_ex_mort', 'total_bc_limit', 'total_il_high_credit_limit', 'total_pymnt', 'total_pymnt_inv', 'total_rec_int', 'total_rec_late_fee', 'total_rec_prncp', 'total_rev_hi_lim'"
   ]
  },
  {
   "cell_type": "code",
   "execution_count": 6,
   "metadata": {},
   "outputs": [],
   "source": [
    "# Dropping these variables as these data are not present when lending the loan. Thus these features do not have any importance in making prediction\n",
    "\n",
    "df.drop(columns=['revol_util','acc_now_delinq', 'acc_open_past_24mths', 'avg_cur_bal', 'bc_open_to_buy', 'bc_util', 'chargeoff_within_12_mths', 'collection_recovery_fee', 'collections_12_mths_ex_med', 'debt_settlement_flag', 'delinq_2yrs', 'delinq_amnt', 'funded_amnt', 'funded_amnt_inv', 'hardship_flag', 'inq_last_6mths', 'last_credit_pull_d', 'last_fico_range_high', 'last_fico_range_low', 'last_pymnt_amnt', 'last_pymnt_d', 'mo_sin_rcnt_rev_tl_op', 'mo_sin_rcnt_tl', 'mths_since_recent_bc', 'mths_since_recent_inq', 'num_accts_ever_120_pd', 'num_actv_bc_tl', 'num_actv_rev_tl', 'num_bc_sats', 'num_bc_tl', 'num_il_tl', 'num_op_rev_tl', 'num_rev_accts', 'num_rev_tl_bal_gt_0', 'num_sats', 'num_tl_120dpd_2m', 'num_tl_30dpd', 'num_tl_90g_dpd_24m', 'num_tl_op_past_12m',  'out_prncp', 'out_prncp_inv', 'pct_tl_nvr_dlq', 'percent_bc_gt_75', 'pymnt_plan', 'recoveries', 'tax_liens', 'tot_coll_amt', 'tot_cur_bal', 'tot_hi_cred_lim', 'total_bal_ex_mort', 'total_bc_limit', 'total_il_high_credit_limit', 'total_pymnt', 'total_pymnt_inv', 'total_rec_int', 'total_rec_late_fee', 'total_rec_prncp', 'total_rev_hi_lim'], inplace=True,axis=1)"
   ]
  },
  {
   "cell_type": "code",
   "execution_count": 33,
   "metadata": {},
   "outputs": [
    {
     "data": {
      "text/plain": [
       "Index(['emp_title', 'emp_length', 'mo_sin_old_il_acct'], dtype='object')"
      ]
     },
     "execution_count": 33,
     "metadata": {},
     "output_type": "execute_result"
    }
   ],
   "source": [
    "## Checking columns which has null values\n",
    "\n",
    "df.columns[df.isnull().any()]"
   ]
  },
  {
   "cell_type": "markdown",
   "metadata": {},
   "source": [
    "We still have 3 features in our dataset which has null values. To treat them, we will impute null values for 'mo_sin_old_il_acct' with it's mean. We will treat 'emp_title' and 'emp_length' after further analysis as they are categorical features and cannot be imputed with median or mean values."
   ]
  },
  {
   "cell_type": "code",
   "execution_count": 7,
   "metadata": {},
   "outputs": [],
   "source": [
    "#Imputing null values for 'mo_sin_old_il_acct' with it's mean. \n",
    "\n",
    "from sklearn.impute import SimpleImputer\n",
    "imputer = SimpleImputer(missing_values=np.nan, strategy='mean')\n",
    "imputer = imputer.fit(df[['mo_sin_old_il_acct']])\n",
    "df['mo_sin_old_il_acct'] = imputer.transform(df[['mo_sin_old_il_acct']])"
   ]
  },
  {
   "cell_type": "markdown",
   "metadata": {},
   "source": [
    "## # Exploratory Data Analysis"
   ]
  },
  {
   "cell_type": "markdown",
   "metadata": {},
   "source": [
    "#### Analysing categorical features and converting them into numerical if necessary"
   ]
  },
  {
   "cell_type": "code",
   "execution_count": 37,
   "metadata": {},
   "outputs": [
    {
     "name": "stdout",
     "output_type": "stream",
     "text": [
      "<class 'pandas.core.frame.DataFrame'>\n",
      "RangeIndex: 92624 entries, 0 to 92623\n",
      "Data columns (total 32 columns):\n",
      " #   Column                Non-Null Count  Dtype  \n",
      "---  ------                --------------  -----  \n",
      " 0   loan_amnt             92624 non-null  int64  \n",
      " 1   term                  92624 non-null  object \n",
      " 2   int_rate              92624 non-null  float64\n",
      " 3   installment           92624 non-null  float64\n",
      " 4   grade                 92624 non-null  object \n",
      " 5   sub_grade             92624 non-null  object \n",
      " 6   emp_title             86512 non-null  object \n",
      " 7   emp_length            86510 non-null  object \n",
      " 8   home_ownership        92624 non-null  object \n",
      " 9   annual_inc            92624 non-null  float64\n",
      " 10  verification_status   92624 non-null  object \n",
      " 11  issue_d               92624 non-null  object \n",
      " 12  loan_status           92624 non-null  object \n",
      " 13  purpose               92624 non-null  object \n",
      " 14  title                 92624 non-null  object \n",
      " 15  zip_code              92624 non-null  object \n",
      " 16  addr_state            92624 non-null  object \n",
      " 17  dti                   92624 non-null  float64\n",
      " 18  earliest_cr_line      92624 non-null  object \n",
      " 19  fico_range_low        92624 non-null  int64  \n",
      " 20  fico_range_high       92624 non-null  int64  \n",
      " 21  open_acc              92624 non-null  int64  \n",
      " 22  pub_rec               92624 non-null  int64  \n",
      " 23  revol_bal             92624 non-null  int64  \n",
      " 24  total_acc             92624 non-null  int64  \n",
      " 25  initial_list_status   92624 non-null  object \n",
      " 26  policy_code           92624 non-null  int64  \n",
      " 27  application_type      92624 non-null  object \n",
      " 28  mo_sin_old_il_acct    92624 non-null  float64\n",
      " 29  mo_sin_old_rev_tl_op  92624 non-null  int64  \n",
      " 30  mort_acc              92624 non-null  int64  \n",
      " 31  pub_rec_bankruptcies  92624 non-null  int64  \n",
      "dtypes: float64(5), int64(11), object(16)\n",
      "memory usage: 22.6+ MB\n"
     ]
    }
   ],
   "source": [
    "df.info()"
   ]
  },
  {
   "cell_type": "markdown",
   "metadata": {},
   "source": [
    "We still have 16 categorical features in our dataset which needs to be removed or modified before creating models. Let us check one by one."
   ]
  },
  {
   "cell_type": "code",
   "execution_count": 8,
   "metadata": {},
   "outputs": [
    {
     "data": {
      "text/plain": [
       "<matplotlib.axes._subplots.AxesSubplot at 0x2608390fd60>"
      ]
     },
     "execution_count": 8,
     "metadata": {},
     "output_type": "execute_result"
    },
    {
     "data": {
      "image/png": "[encoded data removed]",
      "text/plain": [
       "<Figure size 432x288 with 1 Axes>"
      ]
     },
     "metadata": {
      "needs_background": "light"
     },
     "output_type": "display_data"
    }
   ],
   "source": [
    "sns.countplot('grade',data=df)"
   ]
  },
  {
   "cell_type": "markdown",
   "metadata": {},
   "source": [
    "**sub-grade vs. loan_status"
   ]
  },
  {
   "cell_type": "code",
   "execution_count": 90,
   "metadata": {},
   "outputs": [
    {
     "data": {
      "image/png": "[encoded data removed]",
      "text/plain": [
       "<Figure size 432x216 with 2 Axes>"
      ]
     },
     "metadata": {
      "needs_background": "light"
     },
     "output_type": "display_data"
    }
   ],
   "source": [
    "grade_loan = df.loc[:, ['grade', 'loan_status']]\n",
    "\n",
    "g = sns.FacetGrid(grade_loan, col = \"loan_status\")\n",
    "g = g.map(plt.hist, \"grade\")"
   ]
  },
  {
   "cell_type": "markdown",
   "metadata": {},
   "source": [
    "People with high grade will be able to borrow at a lower interest rate. Vice versa.\n",
    "\n",
    "We could observe that majority of people who fully paid off the loan are those who are graded A, B and C. However, those whose debt has been charged off are less likely to be grade A or B customer. Instead B, C and E seem more common."
   ]
  },
  {
   "cell_type": "code",
   "execution_count": 40,
   "metadata": {},
   "outputs": [
    {
     "data": {
      "text/plain": [
       "<matplotlib.axes._subplots.AxesSubplot at 0x22705701550>"
      ]
     },
     "execution_count": 40,
     "metadata": {},
     "output_type": "execute_result"
    },
    {
     "data": {
      "image/png": "[encoded data removed]",
      "text/plain": [
       "<Figure size 432x288 with 1 Axes>"
      ]
     },
     "metadata": {
      "needs_background": "light"
     },
     "output_type": "display_data"
    }
   ],
   "source": [
    "sns.countplot('sub_grade',data=df)"
   ]
  },
  {
   "cell_type": "code",
   "execution_count": 9,
   "metadata": {},
   "outputs": [],
   "source": [
    "#Can drop grade as grade is implied by sub_grade\n",
    "\n",
    "df.drop('grade', axis=1, inplace=True)"
   ]
  },
  {
   "cell_type": "code",
   "execution_count": 126,
   "metadata": {},
   "outputs": [
    {
     "data": {
      "text/plain": [
       "Teacher                                  1897\n",
       "Manager                                  1520\n",
       "Owner                                     870\n",
       "Registered Nurse                          717\n",
       "RN                                        712\n",
       "                                         ... \n",
       "Manager In Training                         1\n",
       "Requirements Officer                        1\n",
       "Operations Communications Coordinator       1\n",
       "ITA3 Disaster Recovery Planner              1\n",
       "Mail assistant                              1\n",
       "Name: emp_title, Length: 33173, dtype: int64"
      ]
     },
     "execution_count": 126,
     "metadata": {},
     "output_type": "execute_result"
    }
   ],
   "source": [
    "df['emp_title'].value_counts()"
   ]
  },
  {
   "cell_type": "code",
   "execution_count": 10,
   "metadata": {},
   "outputs": [],
   "source": [
    "#There are too many different job titles for this feature, so we drop it.\n",
    "\n",
    "df.drop(labels='emp_title', axis=1, inplace=True)"
   ]
  },
  {
   "cell_type": "code",
   "execution_count": 11,
   "metadata": {},
   "outputs": [
    {
     "data": {
      "text/plain": [
       "<matplotlib.axes._subplots.AxesSubplot at 0x260842cf760>"
      ]
     },
     "execution_count": 11,
     "metadata": {},
     "output_type": "execute_result"
    },
    {
     "data": {
      "image/png": "[encoded data removed]",
      "text/plain": [
       "<Figure size 720x432 with 1 Axes>"
      ]
     },
     "metadata": {
      "needs_background": "light"
     },
     "output_type": "display_data"
    }
   ],
   "source": [
    "plt.figure(figsize=(10,6))\n",
    "sns.countplot('emp_length',data=df,)"
   ]
  },
  {
   "cell_type": "code",
   "execution_count": 12,
   "metadata": {},
   "outputs": [
    {
     "data": {
      "text/plain": [
       "0.0      7703\n",
       "1.0      6598\n",
       "2.0      8504\n",
       "3.0      7448\n",
       "4.0      5536\n",
       "5.0      5642\n",
       "6.0      3571\n",
       "7.0      4007\n",
       "8.0      4711\n",
       "9.0      3629\n",
       "10.0    29161\n",
       "NaN      6114\n",
       "Name: emp_length, dtype: int64"
      ]
     },
     "execution_count": 12,
     "metadata": {},
     "output_type": "execute_result"
    }
   ],
   "source": [
    "# Converting emp_length to integer\n",
    "\n",
    "df['emp_length'].replace(to_replace='10+ years', value='10 years', inplace=True)\n",
    "df['emp_length'].replace('< 1 year', '0 years', inplace=True)\n",
    "\n",
    "def emp_length_to_int(s):\n",
    "    if pd.isnull(s):\n",
    "        return s\n",
    "    else:\n",
    "        return np.int8(s.split()[0])\n",
    "    \n",
    "df['emp_length'] = df['emp_length'].apply(emp_length_to_int)\n",
    "df['emp_length'].value_counts(dropna=False).sort_index()"
   ]
  },
  {
   "cell_type": "code",
   "execution_count": 13,
   "metadata": {},
   "outputs": [],
   "source": [
    "# 'emp_length' containg missing value in rows, so we impute the missing values with it's mean\n",
    "\n",
    "from sklearn.impute import SimpleImputer\n",
    "imputer = SimpleImputer(missing_values=np.nan, strategy='mean')\n",
    "imputer = imputer.fit(df[['emp_length']])\n",
    "df['emp_length'] = imputer.transform(df[['emp_length']])"
   ]
  },
  {
   "cell_type": "code",
   "execution_count": 131,
   "metadata": {},
   "outputs": [
    {
     "data": {
      "text/plain": [
       "<matplotlib.axes._subplots.AxesSubplot at 0x22711d1d8b0>"
      ]
     },
     "execution_count": 131,
     "metadata": {},
     "output_type": "execute_result"
    },
    {
     "data": {
      "image/png": "[encoded data removed]",
      "text/plain": [
       "<Figure size 432x288 with 1 Axes>"
      ]
     },
     "metadata": {
      "needs_background": "light"
     },
     "output_type": "display_data"
    }
   ],
   "source": [
    "sns.countplot('home_ownership',data=df)"
   ]
  },
  {
   "cell_type": "code",
   "execution_count": 132,
   "metadata": {},
   "outputs": [
    {
     "data": {
      "text/plain": [
       "<matplotlib.axes._subplots.AxesSubplot at 0x22711d4ebe0>"
      ]
     },
     "execution_count": 132,
     "metadata": {},
     "output_type": "execute_result"
    },
    {
     "data": {
      "image/png": "[encoded data removed]",
      "text/plain": [
       "<Figure size 720x432 with 1 Axes>"
      ]
     },
     "metadata": {
      "needs_background": "light"
     },
     "output_type": "display_data"
    }
   ],
   "source": [
    "plt.figure(figsize=(10,6))\n",
    "sns.countplot('issue_d',data=df)"
   ]
  },
  {
   "cell_type": "code",
   "execution_count": 14,
   "metadata": {},
   "outputs": [],
   "source": [
    "# issue_d can be dropped\n",
    "\n",
    "df.drop(labels='issue_d', axis=1, inplace=True)"
   ]
  },
  {
   "cell_type": "code",
   "execution_count": 134,
   "metadata": {},
   "outputs": [
    {
     "data": {
      "text/plain": [
       "<matplotlib.axes._subplots.AxesSubplot at 0x22709174490>"
      ]
     },
     "execution_count": 134,
     "metadata": {},
     "output_type": "execute_result"
    },
    {
     "data": {
      "image/png": "[encoded data removed]",
      "text/plain": [
       "<Figure size 432x288 with 1 Axes>"
      ]
     },
     "metadata": {
      "needs_background": "light"
     },
     "output_type": "display_data"
    }
   ],
   "source": [
    "#Check if our target is balanced or not\n",
    "sns.countplot('loan_status',data=df)"
   ]
  },
  {
   "cell_type": "code",
   "execution_count": 61,
   "metadata": {},
   "outputs": [
    {
     "data": {
      "text/plain": [
       "debt_consolidation    52311\n",
       "credit_card           23407\n",
       "home_improvement       5820\n",
       "other                  4736\n",
       "major_purchase         1782\n",
       "medical                 979\n",
       "car                     925\n",
       "vacation                777\n",
       "moving                  750\n",
       "small_business          739\n",
       "house                   337\n",
       "renewable_energy         60\n",
       "wedding                   1\n",
       "Name: purpose, dtype: int64"
      ]
     },
     "execution_count": 61,
     "metadata": {},
     "output_type": "execute_result"
    }
   ],
   "source": [
    "df['purpose'].value_counts()"
   ]
  },
  {
   "cell_type": "code",
   "execution_count": 62,
   "metadata": {},
   "outputs": [
    {
     "data": {
      "text/plain": [
       "Debt consolidation         52313\n",
       "Credit card refinancing    23424\n",
       "Home improvement            5820\n",
       "Other                       4725\n",
       "Major purchase              1778\n",
       "Medical expenses             976\n",
       "Car financing                925\n",
       "Vacation                     776\n",
       "Moving and relocation        752\n",
       "Business                     739\n",
       "Home buying                  337\n",
       "Green loan                    59\n",
       "Name: title, dtype: int64"
      ]
     },
     "execution_count": 62,
     "metadata": {},
     "output_type": "execute_result"
    }
   ],
   "source": [
    "df['title'].value_counts()"
   ]
  },
  {
   "cell_type": "code",
   "execution_count": 24,
   "metadata": {},
   "outputs": [],
   "source": [
    "df.drop('title', axis=1, inplace=True)"
   ]
  },
  {
   "cell_type": "code",
   "execution_count": 64,
   "metadata": {},
   "outputs": [
    {
     "data": {
      "text/plain": [
       "945xx    1067\n",
       "112xx    1034\n",
       "606xx     976\n",
       "750xx     956\n",
       "300xx     883\n",
       "         ... \n",
       "892xx       1\n",
       "837xx       1\n",
       "094xx       1\n",
       "965xx       1\n",
       "861xx       1\n",
       "Name: zip_code, Length: 874, dtype: int64"
      ]
     },
     "execution_count": 64,
     "metadata": {},
     "output_type": "execute_result"
    }
   ],
   "source": [
    "df['zip_code'].value_counts()"
   ]
  },
  {
   "cell_type": "code",
   "execution_count": 15,
   "metadata": {},
   "outputs": [],
   "source": [
    "# There are too many zip code. So let's just drop it\n",
    "\n",
    "df.drop(labels='zip_code', axis=1, inplace=True)"
   ]
  },
  {
   "cell_type": "code",
   "execution_count": 66,
   "metadata": {},
   "outputs": [
    {
     "data": {
      "text/plain": [
       "CA    13707\n",
       "NY     7728\n",
       "TX     7723\n",
       "FL     6772\n",
       "IL     3893\n",
       "NJ     3421\n",
       "GA     3056\n",
       "OH     3046\n",
       "PA     3008\n",
       "MI     2577\n",
       "VA     2435\n",
       "NC     2405\n",
       "MA     2235\n",
       "AZ     2186\n",
       "MD     2145\n",
       "CO     1931\n",
       "WA     1879\n",
       "MN     1623\n",
       "CT     1456\n",
       "IN     1445\n",
       "MO     1401\n",
       "NV     1384\n",
       "TN     1366\n",
       "WI     1224\n",
       "LA     1114\n",
       "AL     1092\n",
       "OR     1034\n",
       "SC     1033\n",
       "OK      839\n",
       "KY      838\n",
       "KS      776\n",
       "AR      695\n",
       "UT      549\n",
       "MS      541\n",
       "NM      507\n",
       "NH      450\n",
       "RI      436\n",
       "HI      403\n",
       "WV      396\n",
       "NE      340\n",
       "DE      281\n",
       "MT      237\n",
       "DC      204\n",
       "VT      196\n",
       "WY      191\n",
       "AK      186\n",
       "SD      175\n",
       "ND       45\n",
       "ME       20\n",
       "Name: addr_state, dtype: int64"
      ]
     },
     "execution_count": 66,
     "metadata": {},
     "output_type": "execute_result"
    }
   ],
   "source": [
    "df['addr_state'].value_counts()"
   ]
  },
  {
   "cell_type": "code",
   "execution_count": 67,
   "metadata": {},
   "outputs": [
    {
     "data": {
      "text/plain": [
       "3-Sep     704\n",
       "2-Aug     696\n",
       "1-Aug     680\n",
       "2-Sep     663\n",
       "4-Sep     642\n",
       "         ... \n",
       "Oct-58      1\n",
       "Aug-60      1\n",
       "May-62      1\n",
       "Jun-64      1\n",
       "Mar-66      1\n",
       "Name: earliest_cr_line, Length: 614, dtype: int64"
      ]
     },
     "execution_count": 67,
     "metadata": {},
     "output_type": "execute_result"
    }
   ],
   "source": [
    "df['earliest_cr_line'].value_counts()"
   ]
  },
  {
   "cell_type": "code",
   "execution_count": 16,
   "metadata": {},
   "outputs": [],
   "source": [
    "df.drop(labels='earliest_cr_line', axis=1, inplace=True)"
   ]
  },
  {
   "cell_type": "code",
   "execution_count": 72,
   "metadata": {},
   "outputs": [
    {
     "data": {
      "text/plain": [
       "w    54672\n",
       "f    37952\n",
       "Name: initial_list_status, dtype: int64"
      ]
     },
     "execution_count": 72,
     "metadata": {},
     "output_type": "execute_result"
    }
   ],
   "source": [
    "df['initial_list_status'].value_counts()"
   ]
  },
  {
   "cell_type": "code",
   "execution_count": 73,
   "metadata": {},
   "outputs": [
    {
     "data": {
      "text/plain": [
       "Individual    92624\n",
       "Name: application_type, dtype: int64"
      ]
     },
     "execution_count": 73,
     "metadata": {},
     "output_type": "execute_result"
    }
   ],
   "source": [
    "df['application_type'].value_counts()"
   ]
  },
  {
   "cell_type": "markdown",
   "metadata": {},
   "source": [
    "From above data analysis, we are converting below features into dummies to convert it into numerical and drop the first one to avoid correlation"
   ]
  },
  {
   "cell_type": "code",
   "execution_count": 17,
   "metadata": {},
   "outputs": [],
   "source": [
    "df = pd.get_dummies(df, columns=['verification_status','term','sub_grade', 'home_ownership', 'purpose', 'addr_state', 'initial_list_status', 'application_type'], drop_first=True)"
   ]
  },
  {
   "cell_type": "code",
   "execution_count": 75,
   "metadata": {},
   "outputs": [
    {
     "data": {
      "text/plain": [
       "(92624, 117)"
      ]
     },
     "execution_count": 75,
     "metadata": {},
     "output_type": "execute_result"
    }
   ],
   "source": [
    "df.shape "
   ]
  },
  {
   "cell_type": "code",
   "execution_count": 18,
   "metadata": {},
   "outputs": [
    {
     "data": {
      "text/plain": [
       "<matplotlib.axes._subplots.AxesSubplot at 0x260f6b880a0>"
      ]
     },
     "execution_count": 18,
     "metadata": {},
     "output_type": "execute_result"
    },
    {
     "data": {
      "image/png": "[encoded data removed]",
      "text/plain": [
       "<Figure size 432x288 with 1 Axes>"
      ]
     },
     "metadata": {
      "needs_background": "light"
     },
     "output_type": "display_data"
    }
   ],
   "source": [
    "#Check if our target is balanced or not\n",
    "sns.countplot('loan_status',data=df)"
   ]
  },
  {
   "cell_type": "markdown",
   "metadata": {},
   "source": [
    "We can see that the distribution of target feature is not balanced where 'Fully-Paid' is almost 80% of loan status. We may want to oversample on 'Charged off' later before training our model. Also, we would choose AUC , precision and recall over accuracy when it comes to the model performance evaluation."
   ]
  },
  {
   "cell_type": "code",
   "execution_count": 19,
   "metadata": {},
   "outputs": [
    {
     "data": {
      "text/plain": [
       "1    78972\n",
       "0    13652\n",
       "Name: loan_status, dtype: int64"
      ]
     },
     "execution_count": 19,
     "metadata": {},
     "output_type": "execute_result"
    }
   ],
   "source": [
    "# Converting into binary feature\n",
    "\n",
    "df['loan_status'] = [1 if l=='Fully Paid' else 0 for l in df.loan_status]\n",
    " \n",
    "df['loan_status'].value_counts()"
   ]
  },
  {
   "cell_type": "markdown",
   "metadata": {},
   "source": [
    "**loan_amnt"
   ]
  },
  {
   "cell_type": "code",
   "execution_count": 20,
   "metadata": {},
   "outputs": [
    {
     "data": {
      "image/png": "[encoded data removed]",
      "text/plain": [
       "<Figure size 432x288 with 1 Axes>"
      ]
     },
     "metadata": {
      "needs_background": "light"
     },
     "output_type": "display_data"
    }
   ],
   "source": [
    "sns.distplot(df['loan_amnt'], kde = False, bins = 40).set_title('Distribution of Loan Amount')\n",
    "plt.show()"
   ]
  },
  {
   "cell_type": "markdown",
   "metadata": {},
   "source": [
    "The loan amount distribution is right skewed with the greatest amount around to 40k. Most of loans lie in between 5k and 20k."
   ]
  },
  {
   "cell_type": "markdown",
   "metadata": {},
   "source": [
    "### Split data into test and train set and then perform resampling of target feature"
   ]
  },
  {
   "cell_type": "code",
   "execution_count": 25,
   "metadata": {},
   "outputs": [],
   "source": [
    "import sklearn.metrics as metrics\n",
    "from sklearn.metrics import classification_report\n",
    "from sklearn.metrics import confusion_matrix"
   ]
  },
  {
   "cell_type": "code",
   "execution_count": 26,
   "metadata": {},
   "outputs": [],
   "source": [
    "# Dataset split into train and test\n",
    "from sklearn.model_selection import train_test_split\n",
    "\n",
    "y=df['loan_status']\n",
    "X=df.drop(['loan_status'], axis=1)\n",
    "\n",
    "X_train, X_test, y_train, y_test = train_test_split(X, y, test_size=0.30, random_state=101)"
   ]
  },
  {
   "cell_type": "code",
   "execution_count": 27,
   "metadata": {},
   "outputs": [],
   "source": [
    "# Oversampling\n",
    "\n",
    "from imblearn.over_sampling import SMOTE\n",
    "\n",
    "sm = SMOTE(random_state=12, sampling_strategy=0.6)\n",
    "x_train_res, y_train_res = sm.fit_sample(X_train, y_train)"
   ]
  },
  {
   "cell_type": "markdown",
   "metadata": {},
   "source": [
    "#### Decision Tree Model"
   ]
  },
  {
   "cell_type": "code",
   "execution_count": 28,
   "metadata": {},
   "outputs": [
    {
     "name": "stdout",
     "output_type": "stream",
     "text": [
      "Accuracy: 0.7521592054124082\n",
      "              precision    recall  f1-score   support\n",
      "\n",
      "           0       0.21      0.23      0.22      4176\n",
      "           1       0.86      0.85      0.85     23612\n",
      "\n",
      "    accuracy                           0.75     27788\n",
      "   macro avg       0.53      0.54      0.53     27788\n",
      "weighted avg       0.76      0.75      0.76     27788\n",
      "\n",
      "[[  946  3230]\n",
      " [ 3657 19955]]\n"
     ]
    }
   ],
   "source": [
    "from sklearn.tree import DecisionTreeClassifier\n",
    "\n",
    "decisiontree = DecisionTreeClassifier()\n",
    "decisiontree.fit(x_train_res,y_train_res)\n",
    "predictions=decisiontree.predict(X_test)\n",
    "\n",
    "print(\"Accuracy:\",metrics.accuracy_score(y_test, predictions))\n",
    "\n",
    "print(classification_report(y_test,predictions))\n",
    "print(confusion_matrix(y_test,predictions))"
   ]
  },
  {
   "cell_type": "markdown",
   "metadata": {},
   "source": [
    "### Random Forest"
   ]
  },
  {
   "cell_type": "code",
   "execution_count": 29,
   "metadata": {},
   "outputs": [
    {
     "name": "stdout",
     "output_type": "stream",
     "text": [
      "Accuracy: 0.8468043759896358\n",
      "              precision    recall  f1-score   support\n",
      "\n",
      "           0       0.35      0.02      0.04      4176\n",
      "           1       0.85      0.99      0.92     23612\n",
      "\n",
      "    accuracy                           0.85     27788\n",
      "   macro avg       0.60      0.51      0.48     27788\n",
      "weighted avg       0.78      0.85      0.79     27788\n",
      "\n",
      "[[   93  4083]\n",
      " [  174 23438]]\n"
     ]
    }
   ],
   "source": [
    "from sklearn.ensemble import RandomForestClassifier\n",
    "rf = RandomForestClassifier(n_estimators=600)\n",
    "rf.fit(x_train_res,y_train_res)\n",
    "predictions = rf.predict(X_test)\n",
    "\n",
    "print(\"Accuracy:\",metrics.accuracy_score(y_test, predictions))\n",
    "\n",
    "print(classification_report(y_test,predictions))\n",
    "print(confusion_matrix(y_test,predictions))"
   ]
  },
  {
   "cell_type": "code",
   "execution_count": 30,
   "metadata": {},
   "outputs": [
    {
     "data": {
      "text/html": [
       "<div>\n",
       "<style scoped>\n",
       "    .dataframe tbody tr th:only-of-type {\n",
       "        vertical-align: middle;\n",
       "    }\n",
       "\n",
       "    .dataframe tbody tr th {\n",
       "        vertical-align: top;\n",
       "    }\n",
       "\n",
       "    .dataframe thead th {\n",
       "        text-align: right;\n",
       "    }\n",
       "</style>\n",
       "<table border=\"1\" class=\"dataframe\">\n",
       "  <thead>\n",
       "    <tr style=\"text-align: right;\">\n",
       "      <th></th>\n",
       "      <th>importance</th>\n",
       "    </tr>\n",
       "  </thead>\n",
       "  <tbody>\n",
       "    <tr>\n",
       "      <th>int_rate</th>\n",
       "      <td>1.014125e-01</td>\n",
       "    </tr>\n",
       "    <tr>\n",
       "      <th>emp_length</th>\n",
       "      <td>5.257710e-02</td>\n",
       "    </tr>\n",
       "    <tr>\n",
       "      <th>dti</th>\n",
       "      <td>4.028860e-02</td>\n",
       "    </tr>\n",
       "    <tr>\n",
       "      <th>fico_range_high</th>\n",
       "      <td>4.024530e-02</td>\n",
       "    </tr>\n",
       "    <tr>\n",
       "      <th>fico_range_low</th>\n",
       "      <td>4.023668e-02</td>\n",
       "    </tr>\n",
       "    <tr>\n",
       "      <th>...</th>\n",
       "      <td>...</td>\n",
       "    </tr>\n",
       "    <tr>\n",
       "      <th>addr_state_ME</th>\n",
       "      <td>1.482461e-05</td>\n",
       "    </tr>\n",
       "    <tr>\n",
       "      <th>sub_grade_G3</th>\n",
       "      <td>9.251436e-06</td>\n",
       "    </tr>\n",
       "    <tr>\n",
       "      <th>sub_grade_G5</th>\n",
       "      <td>3.081085e-06</td>\n",
       "    </tr>\n",
       "    <tr>\n",
       "      <th>purpose_wedding</th>\n",
       "      <td>7.387082e-07</td>\n",
       "    </tr>\n",
       "    <tr>\n",
       "      <th>policy_code</th>\n",
       "      <td>0.000000e+00</td>\n",
       "    </tr>\n",
       "  </tbody>\n",
       "</table>\n",
       "<p>116 rows × 1 columns</p>\n",
       "</div>"
      ],
      "text/plain": [
       "                   importance\n",
       "int_rate         1.014125e-01\n",
       "emp_length       5.257710e-02\n",
       "dti              4.028860e-02\n",
       "fico_range_high  4.024530e-02\n",
       "fico_range_low   4.023668e-02\n",
       "...                       ...\n",
       "addr_state_ME    1.482461e-05\n",
       "sub_grade_G3     9.251436e-06\n",
       "sub_grade_G5     3.081085e-06\n",
       "purpose_wedding  7.387082e-07\n",
       "policy_code      0.000000e+00\n",
       "\n",
       "[116 rows x 1 columns]"
      ]
     },
     "execution_count": 30,
     "metadata": {},
     "output_type": "execute_result"
    }
   ],
   "source": [
    "import pandas as pd\n",
    "feature_importances = pd.DataFrame(rf.feature_importances_,\n",
    "                                   index = x_train_res.columns,\n",
    "                                    columns=['importance']).sort_values('importance', ascending=False)\n",
    "feature_importances"
   ]
  },
  {
   "cell_type": "markdown",
   "metadata": {},
   "source": [
    "### K Nearest Neighbour"
   ]
  },
  {
   "cell_type": "code",
   "execution_count": 31,
   "metadata": {},
   "outputs": [],
   "source": [
    "##Normalizing the input features\n",
    "\n",
    "from sklearn.preprocessing import MinMaxScaler\n",
    "\n",
    "scaler = MinMaxScaler(feature_range=(0,1))\n",
    "x_train_scaled = scaler.fit_transform(x_train_res)\n",
    "x_trainK = pd.DataFrame(x_train_scaled)\n",
    "\n",
    "x_test_scaled = scaler.fit_transform(X_test)\n",
    "X_testK = pd.DataFrame(x_test_scaled)"
   ]
  },
  {
   "cell_type": "code",
   "execution_count": 32,
   "metadata": {},
   "outputs": [],
   "source": [
    "from sklearn.neighbors import KNeighborsClassifier\n",
    "from sklearn.metrics import mean_squared_error \n",
    "from math import sqrt\n",
    "\n",
    "error_rate = []\n",
    "\n",
    "# Will take some time\n",
    "for i in range(1,20):\n",
    "    \n",
    "    knn = KNeighborsClassifier(n_neighbors=i)\n",
    "    knn.fit(x_trainK, y_train_res)\n",
    "    pred_i = knn.predict(X_testK)\n",
    "    error_rate.append(np.mean(pred_i != y_test))"
   ]
  },
  {
   "cell_type": "code",
   "execution_count": 33,
   "metadata": {},
   "outputs": [
    {
     "data": {
      "text/plain": [
       "[0.25467827839355117,\n",
       " 0.34410536922412555,\n",
       " 0.22682452857348495,\n",
       " 0.2764142795451274,\n",
       " 0.2243414423492155,\n",
       " 0.2602922124658126,\n",
       " 0.2268965020872319,\n",
       " 0.25568590758600834,\n",
       " 0.23279833021448107,\n",
       " 0.25870879516337986,\n",
       " 0.23902403915359147,\n",
       " 0.2582049805671513,\n",
       " 0.2429106088959263,\n",
       " 0.26180365625449836,\n",
       " 0.24895638405066936,\n",
       " 0.26497049085936375,\n",
       " 0.2538865697423348,\n",
       " 0.26900100762919243,\n",
       " 0.2583129408377717]"
      ]
     },
     "execution_count": 33,
     "metadata": {},
     "output_type": "execute_result"
    }
   ],
   "source": [
    "error_rate"
   ]
  },
  {
   "cell_type": "code",
   "execution_count": 34,
   "metadata": {},
   "outputs": [
    {
     "data": {
      "text/plain": [
       "Text(0, 0.5, 'Error Rate')"
      ]
     },
     "execution_count": 34,
     "metadata": {},
     "output_type": "execute_result"
    },
    {
     "data": {
      "image/png": "[encoded data removed]",
      "text/plain": [
       "<Figure size 720x432 with 1 Axes>"
      ]
     },
     "metadata": {
      "needs_background": "light"
     },
     "output_type": "display_data"
    }
   ],
   "source": [
    "plt.figure(figsize=(10,6))\n",
    "plt.plot(range(1,20),error_rate,color='blue', linestyle='dashed', marker='o',\n",
    "         markerfacecolor='red', markersize=10)\n",
    "plt.title('Error Rate vs. K Value')\n",
    "plt.xlabel('K')\n",
    "plt.ylabel('Error Rate')"
   ]
  },
  {
   "cell_type": "code",
   "execution_count": 36,
   "metadata": {},
   "outputs": [
    {
     "name": "stdout",
     "output_type": "stream",
     "text": [
      "WITH K=5\n",
      "\n",
      "\n",
      "[[  778  3398]\n",
      " [ 2836 20776]]\n",
      "\n",
      "\n",
      "              precision    recall  f1-score   support\n",
      "\n",
      "           0       0.22      0.19      0.20      4176\n",
      "           1       0.86      0.88      0.87     23612\n",
      "\n",
      "    accuracy                           0.78     27788\n",
      "   macro avg       0.54      0.53      0.53     27788\n",
      "weighted avg       0.76      0.78      0.77     27788\n",
      "\n"
     ]
    }
   ],
   "source": [
    "knn = KNeighborsClassifier(n_neighbors=5)\n",
    "\n",
    "knn.fit(x_trainK, y_train_res)\n",
    "pred = knn.predict(X_testK)\n",
    "\n",
    "print('WITH K=5')\n",
    "print('\\n')\n",
    "print(confusion_matrix(y_test,pred))\n",
    "print('\\n')\n",
    "print(classification_report(y_test,pred))"
   ]
  },
  {
   "cell_type": "code",
   "execution_count": 41,
   "metadata": {},
   "outputs": [
    {
     "name": "stdout",
     "output_type": "stream",
     "text": [
      "Accuracy: 0.7756585576507845\n",
      "Precision: 0.859435757425333\n",
      "Recall: 0.8798915805522616\n"
     ]
    },
    {
     "data": {
      "image/png": "[encoded data removed]",
      "text/plain": [
       "<Figure size 432x288 with 1 Axes>"
      ]
     },
     "metadata": {
      "needs_background": "light"
     },
     "output_type": "display_data"
    }
   ],
   "source": [
    "print(\"Accuracy:\",metrics.accuracy_score(y_test, pred))\n",
    "print(\"Precision:\",metrics.precision_score(y_test, pred))\n",
    "print(\"Recall:\",metrics.recall_score(y_test, pred))\n",
    "\n",
    "y_pred_proba = knn.predict_proba(X_testK)[::,1]\n",
    "fpr, tpr, _ = metrics.roc_curve(y_test,  y_pred_proba)\n",
    "auc = metrics.roc_auc_score(y_test, y_pred_proba)\n",
    "plt.plot(fpr,tpr,label=\"data 1, auc=\"+str(auc))\n",
    "plt.legend(loc=4)\n",
    "plt.show()"
   ]
  },
  {
   "cell_type": "markdown",
   "metadata": {},
   "source": [
    "### Support Vector Machine"
   ]
  },
  {
   "cell_type": "code",
   "execution_count": 42,
   "metadata": {},
   "outputs": [],
   "source": [
    "from sklearn.svm import SVC\n",
    "model = SVC()\n",
    "model.fit(x_train_res,y_train_res)\n",
    "predictions = model.predict(X_test)"
   ]
  },
  {
   "cell_type": "code",
   "execution_count": 43,
   "metadata": {},
   "outputs": [
    {
     "name": "stdout",
     "output_type": "stream",
     "text": [
      "[[    0  4176]\n",
      " [    0 23612]]\n",
      "              precision    recall  f1-score   support\n",
      "\n",
      "           0       0.00      0.00      0.00      4176\n",
      "           1       0.85      1.00      0.92     23612\n",
      "\n",
      "    accuracy                           0.85     27788\n",
      "   macro avg       0.42      0.50      0.46     27788\n",
      "weighted avg       0.72      0.85      0.78     27788\n",
      "\n"
     ]
    },
    {
     "name": "stderr",
     "output_type": "stream",
     "text": [
      "C:\\Users\\vihar\\anaconda3\\lib\\site-packages\\sklearn\\metrics\\_classification.py:1221: UndefinedMetricWarning: Precision and F-score are ill-defined and being set to 0.0 in labels with no predicted samples. Use `zero_division` parameter to control this behavior.\n",
      "  _warn_prf(average, modifier, msg_start, len(result))\n"
     ]
    }
   ],
   "source": [
    "print(confusion_matrix(y_test,predictions))\n",
    "print(classification_report(y_test,predictions))"
   ]
  },
  {
   "cell_type": "markdown",
   "metadata": {},
   "source": [
    "**Grid Search**\n",
    "\n",
    "GridSearchCV takes a dictionary that describes the parameters that should be tried and a model to train. The grid of parameters is defined as a dictionary, where the keys are the parameters and the values are the settings to be tested."
   ]
  },
  {
   "cell_type": "code",
   "execution_count": 47,
   "metadata": {},
   "outputs": [
    {
     "name": "stdout",
     "output_type": "stream",
     "text": [
      "Fitting 5 folds for each of 6 candidates, totalling 30 fits\n",
      "[CV] C=0.1, gamma=1, kernel=rbf ......................................\n"
     ]
    },
    {
     "name": "stderr",
     "output_type": "stream",
     "text": [
      "[Parallel(n_jobs=1)]: Using backend SequentialBackend with 1 concurrent workers.\n"
     ]
    },
    {
     "name": "stdout",
     "output_type": "stream",
     "text": [
      "[CV] .......... C=0.1, gamma=1, kernel=rbf, score=0.854, total=58.8min\n",
      "[CV] C=0.1, gamma=1, kernel=rbf ......................................\n"
     ]
    },
    {
     "name": "stderr",
     "output_type": "stream",
     "text": [
      "[Parallel(n_jobs=1)]: Done   1 out of   1 | elapsed: 58.8min remaining:    0.0s\n"
     ]
    },
    {
     "name": "stdout",
     "output_type": "stream",
     "text": [
      "[CV] ......... C=0.1, gamma=1, kernel=rbf, score=0.854, total=722.1min\n",
      "[CV] C=0.1, gamma=1, kernel=rbf ......................................\n"
     ]
    },
    {
     "name": "stderr",
     "output_type": "stream",
     "text": [
      "[Parallel(n_jobs=1)]: Done   2 out of   2 | elapsed: 780.8min remaining:    0.0s\n"
     ]
    },
    {
     "name": "stdout",
     "output_type": "stream",
     "text": [
      "[CV] .......... C=0.1, gamma=1, kernel=rbf, score=0.854, total=99.2min\n",
      "[CV] C=0.1, gamma=1, kernel=rbf ......................................\n",
      "[CV] .......... C=0.1, gamma=1, kernel=rbf, score=0.854, total=77.9min\n",
      "[CV] C=0.1, gamma=1, kernel=rbf ......................................\n",
      "[CV] .......... C=0.1, gamma=1, kernel=rbf, score=0.854, total=79.6min\n",
      "[CV] C=0.1, gamma=0.1, kernel=rbf ....................................\n",
      "[CV] ....... C=0.1, gamma=0.1, kernel=rbf, score=0.854, total=101.0min\n",
      "[CV] C=0.1, gamma=0.1, kernel=rbf ....................................\n",
      "[CV] ........ C=0.1, gamma=0.1, kernel=rbf, score=0.854, total=71.2min\n",
      "[CV] C=0.1, gamma=0.1, kernel=rbf ....................................\n",
      "[CV] ........ C=0.1, gamma=0.1, kernel=rbf, score=0.854, total=70.5min\n",
      "[CV] C=0.1, gamma=0.1, kernel=rbf ....................................\n",
      "[CV] ........ C=0.1, gamma=0.1, kernel=rbf, score=0.854, total=69.2min\n",
      "[CV] C=0.1, gamma=0.1, kernel=rbf ....................................\n",
      "[CV] ....... C=0.1, gamma=0.1, kernel=rbf, score=0.854, total=109.0min\n",
      "[CV] C=1, gamma=1, kernel=rbf ........................................\n",
      "[CV] ........... C=1, gamma=1, kernel=rbf, score=0.854, total=841.2min\n",
      "[CV] C=1, gamma=1, kernel=rbf ........................................\n",
      "[CV] ............ C=1, gamma=1, kernel=rbf, score=0.854, total=82.8min\n",
      "[CV] C=1, gamma=1, kernel=rbf ........................................\n",
      "[CV] ........... C=1, gamma=1, kernel=rbf, score=0.854, total=359.5min\n",
      "[CV] C=1, gamma=1, kernel=rbf ........................................\n",
      "[CV] ........... C=1, gamma=1, kernel=rbf, score=0.854, total=134.2min\n",
      "[CV] C=1, gamma=1, kernel=rbf ........................................\n",
      "[CV] ............ C=1, gamma=1, kernel=rbf, score=0.854, total=78.9min\n",
      "[CV] C=1, gamma=0.1, kernel=rbf ......................................\n",
      "[CV] .......... C=1, gamma=0.1, kernel=rbf, score=0.854, total=80.0min\n",
      "[CV] C=1, gamma=0.1, kernel=rbf ......................................\n",
      "[CV] .......... C=1, gamma=0.1, kernel=rbf, score=0.854, total=79.0min\n",
      "[CV] C=1, gamma=0.1, kernel=rbf ......................................\n",
      "[CV] ......... C=1, gamma=0.1, kernel=rbf, score=0.854, total=589.7min\n",
      "[CV] C=1, gamma=0.1, kernel=rbf ......................................\n",
      "[CV] ......... C=1, gamma=0.1, kernel=rbf, score=0.854, total=149.8min\n",
      "[CV] C=1, gamma=0.1, kernel=rbf ......................................\n",
      "[CV] .......... C=1, gamma=0.1, kernel=rbf, score=0.854, total=79.4min\n",
      "[CV] C=10, gamma=1, kernel=rbf .......................................\n",
      "[CV] ........... C=10, gamma=1, kernel=rbf, score=0.854, total=94.4min\n",
      "[CV] C=10, gamma=1, kernel=rbf .......................................\n",
      "[CV] .......... C=10, gamma=1, kernel=rbf, score=0.854, total=127.3min\n",
      "[CV] C=10, gamma=1, kernel=rbf .......................................\n",
      "[CV] .......... C=10, gamma=1, kernel=rbf, score=0.854, total=142.0min\n",
      "[CV] C=10, gamma=1, kernel=rbf .......................................\n",
      "[CV] ........... C=10, gamma=1, kernel=rbf, score=0.854, total=86.9min\n",
      "[CV] C=10, gamma=1, kernel=rbf .......................................\n",
      "[CV] ........... C=10, gamma=1, kernel=rbf, score=0.854, total=88.1min\n",
      "[CV] C=10, gamma=0.1, kernel=rbf .....................................\n",
      "[CV] ......... C=10, gamma=0.1, kernel=rbf, score=0.854, total=85.4min\n",
      "[CV] C=10, gamma=0.1, kernel=rbf .....................................\n",
      "[CV] ........ C=10, gamma=0.1, kernel=rbf, score=0.854, total=730.1min\n",
      "[CV] C=10, gamma=0.1, kernel=rbf .....................................\n",
      "[CV] ......... C=10, gamma=0.1, kernel=rbf, score=0.854, total=87.8min\n",
      "[CV] C=10, gamma=0.1, kernel=rbf .....................................\n",
      "[CV] ......... C=10, gamma=0.1, kernel=rbf, score=0.854, total=82.0min\n",
      "[CV] C=10, gamma=0.1, kernel=rbf .....................................\n",
      "[CV] ......... C=10, gamma=0.1, kernel=rbf, score=0.854, total=85.4min\n"
     ]
    },
    {
     "name": "stderr",
     "output_type": "stream",
     "text": [
      "[Parallel(n_jobs=1)]: Done  30 out of  30 | elapsed: 5542.5min finished\n"
     ]
    },
    {
     "data": {
      "text/plain": [
       "GridSearchCV(estimator=SVC(),\n",
       "             param_grid={'C': [0.1, 1, 10], 'gamma': [1, 0.1],\n",
       "                         'kernel': ['rbf']},\n",
       "             verbose=3)"
      ]
     },
     "execution_count": 47,
     "metadata": {},
     "output_type": "execute_result"
    }
   ],
   "source": [
    "param_grid = {'C': [0.1,1, 10], 'gamma': [1,0.1], 'kernel': ['rbf']} \n",
    "from sklearn.model_selection import GridSearchCV\n",
    "grid = GridSearchCV(SVC(),param_grid,refit=True,verbose=3)\n",
    "\n",
    "\n",
    "grid.fit(X_train,y_train)"
   ]
  },
  {
   "cell_type": "code",
   "execution_count": 64,
   "metadata": {},
   "outputs": [
    {
     "data": {
      "text/plain": [
       "{'C': 0.1, 'gamma': 1, 'kernel': 'rbf'}"
      ]
     },
     "execution_count": 64,
     "metadata": {},
     "output_type": "execute_result"
    }
   ],
   "source": [
    "grid.best_params_"
   ]
  },
  {
   "cell_type": "code",
   "execution_count": 65,
   "metadata": {},
   "outputs": [
    {
     "data": {
      "text/plain": [
       "SVC(C=0.1, gamma=1)"
      ]
     },
     "execution_count": 65,
     "metadata": {},
     "output_type": "execute_result"
    }
   ],
   "source": [
    "grid.best_estimator_"
   ]
  },
  {
   "cell_type": "code",
   "execution_count": 66,
   "metadata": {},
   "outputs": [
    {
     "name": "stdout",
     "output_type": "stream",
     "text": [
      "[[    0  4176]\n",
      " [    0 23612]]\n",
      "              precision    recall  f1-score   support\n",
      "\n",
      "           0       0.00      0.00      0.00      4176\n",
      "           1       0.85      1.00      0.92     23612\n",
      "\n",
      "    accuracy                           0.85     27788\n",
      "   macro avg       0.42      0.50      0.46     27788\n",
      "weighted avg       0.72      0.85      0.78     27788\n",
      "\n"
     ]
    },
    {
     "name": "stderr",
     "output_type": "stream",
     "text": [
      "C:\\Users\\vihar\\anaconda3\\lib\\site-packages\\sklearn\\metrics\\_classification.py:1221: UndefinedMetricWarning: Precision and F-score are ill-defined and being set to 0.0 in labels with no predicted samples. Use `zero_division` parameter to control this behavior.\n",
      "  _warn_prf(average, modifier, msg_start, len(result))\n"
     ]
    }
   ],
   "source": [
    "grid_predictions = grid.predict(X_test)\n",
    "print(confusion_matrix(y_test,grid_predictions))\n",
    "print(classification_report(y_test,grid_predictions))"
   ]
  }
 ],
 "metadata": {
  "kernelspec": {
   "display_name": "Python 3",
   "language": "python",
   "name": "python3"
  },
  "language_info": {
   "codemirror_mode": {
    "name": "ipython",
    "version": 3
   },
   "file_extension": ".py",
   "mimetype": "text/x-python",
   "name": "python",
   "nbconvert_exporter": "python",
   "pygments_lexer": "ipython3",
   "version": "3.8.3"
  }
 },
 "nbformat": 4,
 "nbformat_minor": 4
}
